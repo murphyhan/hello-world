{
 "cells": [
  {
   "cell_type": "code",
   "execution_count": 1,
   "metadata": {},
   "outputs": [
    {
     "name": "stdout",
     "output_type": "stream",
     "text": [
      "[['CALsuburb', '9'], ['PARoffice', '7'], ['bedroom', '12'], ['coast', '10'], ['forest', '4'], ['highway', '14'], ['industrial', '2'], ['insidecity', '3'], ['kitchen', '0'], ['livingroom', '5'], ['mountain', '8'], ['opencountry', '6'], ['store', '11'], ['street', '1'], ['tallbuilding', '13']]\n",
      "9\n"
     ]
    }
   ],
   "source": [
    "import numpy as np\n",
    "\n",
    "with open('/data/examples/may_the_4_be_with_u/where_am_i/mapping.txt') as f:\n",
    "    content = f.readlines()\n",
    "# you may also want to remove whitespace characters like `\\n` at the end of each line\n",
    "content = [x.strip(' \\t\\n\\r').split(', ') for x in content] \n",
    "aList = np.array(content)\n",
    "print(content)\n",
    "yMap = dict(zip(aList[:,0], aList[:,1]))\n",
    "print(yMap['CALsuburb'])\n",
    "\n"
   ]
  },
  {
   "cell_type": "code",
   "execution_count": 2,
   "metadata": {},
   "outputs": [
    {
     "name": "stdout",
     "output_type": "stream",
     "text": [
      "(2985, 4)\n"
     ]
    }
   ],
   "source": [
    "import os\n",
    "import pandas as pd\n",
    "\n",
    "trainList = []\n",
    "for dirname, dirnames, filenames in os.walk('/data/examples/may_the_4_be_with_u/where_am_i/train'):\n",
    "    # print path to all subdirectories first.\n",
    "    #for subdirname in dirnames:\n",
    "     #   print(os.path.join(dirname, subdirname))\n",
    "    \n",
    "    # print path to all filenames.\n",
    "    for filename in filenames:\n",
    "        folderName = dirname.replace('/data/examples/may_the_4_be_with_u/where_am_i/train/','')\n",
    "        #print(folderName, filename)\n",
    "        row = []\n",
    "        row.append(yMap[folderName])\n",
    "        row.append(folderName)\n",
    "        row.append(filename)\n",
    "        row.append(os.path.join(dirname, filename))\n",
    "        trainList.append(row)\n",
    "        \n",
    "trainDf = pd.DataFrame(trainList, columns=['label','folder','file','path'])        \n",
    "  \n",
    "print(trainDf.shape)"
   ]
  },
  {
   "cell_type": "code",
   "execution_count": 3,
   "metadata": {},
   "outputs": [
    {
     "data": {
      "text/html": [
       "<div>\n",
       "<style scoped>\n",
       "    .dataframe tbody tr th:only-of-type {\n",
       "        vertical-align: middle;\n",
       "    }\n",
       "\n",
       "    .dataframe tbody tr th {\n",
       "        vertical-align: top;\n",
       "    }\n",
       "\n",
       "    .dataframe thead th {\n",
       "        text-align: right;\n",
       "    }\n",
       "</style>\n",
       "<table border=\"1\" class=\"dataframe\">\n",
       "  <thead>\n",
       "    <tr style=\"text-align: right;\">\n",
       "      <th></th>\n",
       "      <th>label</th>\n",
       "      <th>folder</th>\n",
       "      <th>file</th>\n",
       "      <th>path</th>\n",
       "    </tr>\n",
       "  </thead>\n",
       "  <tbody>\n",
       "    <tr>\n",
       "      <th>0</th>\n",
       "      <td>9</td>\n",
       "      <td>CALsuburb</td>\n",
       "      <td>image_0001.jpg</td>\n",
       "      <td>/data/examples/may_the_4_be_with_u/where_am_i/...</td>\n",
       "    </tr>\n",
       "    <tr>\n",
       "      <th>1</th>\n",
       "      <td>9</td>\n",
       "      <td>CALsuburb</td>\n",
       "      <td>image_0002.jpg</td>\n",
       "      <td>/data/examples/may_the_4_be_with_u/where_am_i/...</td>\n",
       "    </tr>\n",
       "    <tr>\n",
       "      <th>2</th>\n",
       "      <td>9</td>\n",
       "      <td>CALsuburb</td>\n",
       "      <td>image_0003.jpg</td>\n",
       "      <td>/data/examples/may_the_4_be_with_u/where_am_i/...</td>\n",
       "    </tr>\n",
       "    <tr>\n",
       "      <th>3</th>\n",
       "      <td>9</td>\n",
       "      <td>CALsuburb</td>\n",
       "      <td>image_0004.jpg</td>\n",
       "      <td>/data/examples/may_the_4_be_with_u/where_am_i/...</td>\n",
       "    </tr>\n",
       "    <tr>\n",
       "      <th>4</th>\n",
       "      <td>9</td>\n",
       "      <td>CALsuburb</td>\n",
       "      <td>image_0005.jpg</td>\n",
       "      <td>/data/examples/may_the_4_be_with_u/where_am_i/...</td>\n",
       "    </tr>\n",
       "  </tbody>\n",
       "</table>\n",
       "</div>"
      ],
      "text/plain": [
       "  label     folder            file  \\\n",
       "0     9  CALsuburb  image_0001.jpg   \n",
       "1     9  CALsuburb  image_0002.jpg   \n",
       "2     9  CALsuburb  image_0003.jpg   \n",
       "3     9  CALsuburb  image_0004.jpg   \n",
       "4     9  CALsuburb  image_0005.jpg   \n",
       "\n",
       "                                                path  \n",
       "0  /data/examples/may_the_4_be_with_u/where_am_i/...  \n",
       "1  /data/examples/may_the_4_be_with_u/where_am_i/...  \n",
       "2  /data/examples/may_the_4_be_with_u/where_am_i/...  \n",
       "3  /data/examples/may_the_4_be_with_u/where_am_i/...  \n",
       "4  /data/examples/may_the_4_be_with_u/where_am_i/...  "
      ]
     },
     "execution_count": 3,
     "metadata": {},
     "output_type": "execute_result"
    }
   ],
   "source": [
    "trainDf.head()"
   ]
  },
  {
   "cell_type": "code",
   "execution_count": 4,
   "metadata": {},
   "outputs": [
    {
     "data": {
      "text/plain": [
       "'/data/examples/may_the_4_be_with_u/where_am_i/train/CALsuburb/image_0001.jpg'"
      ]
     },
     "execution_count": 4,
     "metadata": {},
     "output_type": "execute_result"
    }
   ],
   "source": [
    "trainDf.path[0]"
   ]
  },
  {
   "cell_type": "code",
   "execution_count": 5,
   "metadata": {},
   "outputs": [
    {
     "name": "stdout",
     "output_type": "stream",
     "text": [
      "img.shape (220, 330, 3) (330, 3)\n",
      "color: [48 48 48]\n",
      "(217800,)\n"
     ]
    },
    {
     "data": {
      "image/png": "[encoded data removed]",
      "text/plain": [
       "<Figure size 432x288 with 1 Axes>"
      ]
     },
     "metadata": {},
     "output_type": "display_data"
    }
   ],
   "source": [
    "import cv2\n",
    "%matplotlib inline\n",
    "import matplotlib.pyplot as plt\n",
    "\n",
    "img = cv2.imread(trainDf['path'][0]) #  RGB 降維\n",
    "plt.imshow(img) #, cmap='gray'\n",
    "print('img.shape',img.shape, img[0].shape)\n",
    "print('color:',img[0][0])\n",
    "print(img.flatten().shape)"
   ]
  },
  {
   "cell_type": "code",
   "execution_count": 6,
   "metadata": {},
   "outputs": [],
   "source": [
    "import numpy as np\n",
    "from sklearn.model_selection import train_test_split\n",
    "resize = (32, 32)\n",
    "\n",
    "X = np.array([cv2.resize(cv2.imread(t), resize) for t in trainDf['path']])\n",
    "\n"
   ]
  },
  {
   "cell_type": "code",
   "execution_count": 7,
   "metadata": {},
   "outputs": [
    {
     "name": "stdout",
     "output_type": "stream",
     "text": [
      "(2985, 32, 32, 3)\n"
     ]
    }
   ],
   "source": [
    "print(X.shape)"
   ]
  },
  {
   "cell_type": "code",
   "execution_count": 8,
   "metadata": {},
   "outputs": [
    {
     "name": "stdout",
     "output_type": "stream",
     "text": [
      "(1999, 32, 32, 3) (1999,) (986, 32, 32, 3) (986,)\n"
     ]
    }
   ],
   "source": [
    "\n",
    "x_train, x_test, y_train, y_test = train_test_split(\n",
    "    X, trainDf['label'], test_size=0.33, random_state=42)\n",
    "\n",
    "print(x_train.shape, y_train.shape,x_test.shape, y_test.shape)"
   ]
  },
  {
   "cell_type": "code",
   "execution_count": 9,
   "metadata": {},
   "outputs": [
    {
     "name": "stderr",
     "output_type": "stream",
     "text": [
      "Using TensorFlow backend.\n"
     ]
    },
    {
     "name": "stdout",
     "output_type": "stream",
     "text": [
      "/home/jovyan/murphy/where_am_i/saved_models\n",
      "x_train shape: (1999, 32, 32, 3)\n",
      "1999 train samples\n",
      "986 test samples\n",
      "[[[ 86  86  86]\n",
      "  [ 82  82  82]\n",
      "  [ 80  80  80]\n",
      "  ..., \n",
      "  [241 241 241]\n",
      "  [243 243 243]\n",
      "  [244 244 244]]\n",
      "\n",
      " [[ 84  84  84]\n",
      "  [ 82  82  82]\n",
      "  [ 82  82  82]\n",
      "  ..., \n",
      "  [249 249 249]\n",
      "  [250 250 250]\n",
      "  [251 251 251]]\n",
      "\n",
      " [[ 83  83  83]\n",
      "  [ 86  86  86]\n",
      "  [ 83  83  83]\n",
      "  ..., \n",
      "  [ 55  55  55]\n",
      "  [163 163 163]\n",
      "  [253 253 253]]\n",
      "\n",
      " ..., \n",
      " [[ 82  82  82]\n",
      "  [ 82  82  82]\n",
      "  [ 79  79  79]\n",
      "  ..., \n",
      "  [  9   9   9]\n",
      "  [ 20  20  20]\n",
      "  [  7   7   7]]\n",
      "\n",
      " [[ 75  75  75]\n",
      "  [ 76  76  76]\n",
      "  [ 73  73  73]\n",
      "  ..., \n",
      "  [  6   6   6]\n",
      "  [  9   9   9]\n",
      "  [ 23  23  23]]\n",
      "\n",
      " [[ 68  68  68]\n",
      "  [ 70  70  70]\n",
      "  [ 68  68  68]\n",
      "  ..., \n",
      "  [  5   5   5]\n",
      "  [ 20  20  20]\n",
      "  [ 16  16  16]]]\n"
     ]
    }
   ],
   "source": [
    "import keras\n",
    "from keras.datasets import cifar10\n",
    "from keras.preprocessing.image import ImageDataGenerator\n",
    "from keras.models import Sequential, load_model\n",
    "from keras.layers import Dense, Dropout, Activation, Flatten\n",
    "from keras.layers import Conv2D, MaxPooling2D\n",
    "from keras.callbacks import EarlyStopping, ModelCheckpoint\n",
    "\n",
    "import matplotlib.pyplot as plt\n",
    "import os\n",
    "\n",
    "\n",
    "save_dir = os.path.join(os.getcwd(), 'saved_models')\n",
    "model_name = 'keras_cifar10_trained_model.h5'\n",
    "print(save_dir)\n",
    "# The data, shuffled and split between train and test sets:\n",
    "#(x_train, y_train), (x_test, y_test) = cifar10.load_data()\n",
    "\n",
    "print('x_train shape:', x_train.shape)\n",
    "print(x_train.shape[0], 'train samples')\n",
    "print(x_test.shape[0], 'test samples')\n",
    "print(x_train[0])\n"
   ]
  },
  {
   "cell_type": "code",
   "execution_count": 10,
   "metadata": {},
   "outputs": [
    {
     "name": "stdout",
     "output_type": "stream",
     "text": [
      "(1999, 15) (986, 15)\n"
     ]
    }
   ],
   "source": [
    "num_classes = 15\n",
    "# Convert class vectors to binary class matrices.\n",
    "y_train = keras.utils.to_categorical(y_train, num_classes)\n",
    "y_test = keras.utils.to_categorical(y_test, num_classes)\n",
    "\n",
    "print(y_train.shape, y_test.shape)"
   ]
  },
  {
   "cell_type": "code",
   "execution_count": 11,
   "metadata": {},
   "outputs": [
    {
     "name": "stdout",
     "output_type": "stream",
     "text": [
      "_________________________________________________________________\n",
      "Layer (type)                 Output Shape              Param #   \n",
      "=================================================================\n",
      "conv2d_1 (Conv2D)            (None, 30, 30, 64)        1792      \n",
      "_________________________________________________________________\n",
      "activation_1 (Activation)    (None, 30, 30, 64)        0         \n",
      "_________________________________________________________________\n",
      "conv2d_2 (Conv2D)            (None, 28, 28, 128)       73856     \n",
      "_________________________________________________________________\n",
      "activation_2 (Activation)    (None, 28, 28, 128)       0         \n",
      "_________________________________________________________________\n",
      "max_pooling2d_1 (MaxPooling2 (None, 14, 14, 128)       0         \n",
      "_________________________________________________________________\n",
      "dropout_1 (Dropout)          (None, 14, 14, 128)       0         \n",
      "_________________________________________________________________\n",
      "conv2d_3 (Conv2D)            (None, 14, 14, 64)        73792     \n",
      "_________________________________________________________________\n",
      "activation_3 (Activation)    (None, 14, 14, 64)        0         \n",
      "_________________________________________________________________\n",
      "conv2d_4 (Conv2D)            (None, 12, 12, 64)        36928     \n",
      "_________________________________________________________________\n",
      "activation_4 (Activation)    (None, 12, 12, 64)        0         \n",
      "_________________________________________________________________\n",
      "max_pooling2d_2 (MaxPooling2 (None, 6, 6, 64)          0         \n",
      "_________________________________________________________________\n",
      "dropout_2 (Dropout)          (None, 6, 6, 64)          0         \n",
      "_________________________________________________________________\n",
      "flatten_1 (Flatten)          (None, 2304)              0         \n",
      "_________________________________________________________________\n",
      "dense_1 (Dense)              (None, 512)               1180160   \n",
      "_________________________________________________________________\n",
      "activation_5 (Activation)    (None, 512)               0         \n",
      "_________________________________________________________________\n",
      "dropout_3 (Dropout)          (None, 512)               0         \n",
      "_________________________________________________________________\n",
      "dense_2 (Dense)              (None, 15)                7695      \n",
      "_________________________________________________________________\n",
      "activation_6 (Activation)    (None, 15)                0         \n",
      "=================================================================\n",
      "Total params: 1,374,223\n",
      "Trainable params: 1,374,223\n",
      "Non-trainable params: 0\n",
      "_________________________________________________________________\n",
      "None\n"
     ]
    }
   ],
   "source": [
    "\n",
    "# build our CNN model\n",
    "model = Sequential()\n",
    "model.add(Conv2D(64, (3, 3),\n",
    "                 input_shape=x_train.shape[1:]))\n",
    "model.add(Activation('relu'))\n",
    "model.add(Conv2D(128, (3, 3)))\n",
    "model.add(Activation('relu'))\n",
    "model.add(MaxPooling2D(pool_size=(2, 2)))\n",
    "model.add(Dropout(0.25))\n",
    "\n",
    "model.add(Conv2D(64, (3, 3), padding='same'))\n",
    "model.add(Activation('relu'))\n",
    "model.add(Conv2D(64, (3, 3)))\n",
    "model.add(Activation('relu'))\n",
    "model.add(MaxPooling2D(pool_size=(2, 2)))\n",
    "model.add(Dropout(0.25))\n",
    "\n",
    "model.add(Flatten())\n",
    "model.add(Dense(512))\n",
    "model.add(Activation('relu'))\n",
    "model.add(Dropout(0.5))\n",
    "model.add(Dense(num_classes))\n",
    "model.add(Activation('softmax'))\n",
    "\n",
    "print(model.summary())\n"
   ]
  },
  {
   "cell_type": "code",
   "execution_count": 12,
   "metadata": {},
   "outputs": [],
   "source": [
    "\n",
    "# initiate Adam optimizer\n",
    "opt = keras.optimizers.Adam()\n",
    "\n",
    "# Let's train the model using Adam\n",
    "model.compile(loss='categorical_crossentropy',\n",
    "              optimizer=opt,\n",
    "              metrics=['accuracy'])\n",
    "\n",
    "x_train = x_train.astype('float32')\n",
    "x_test = x_test.astype('float32')\n",
    "x_train /= 255.\n",
    "x_test /= 255.\n",
    "\n"
   ]
  },
  {
   "cell_type": "code",
   "execution_count": 13,
   "metadata": {},
   "outputs": [
    {
     "name": "stdout",
     "output_type": "stream",
     "text": [
      "Using real-time data augmentation.\n",
      "Epoch 1/50\n",
      "15/16 [===========================>..] - ETA: 0s - loss: 2.6889 - acc: 0.0887\n",
      "Epoch 00001: val_loss improved from inf to 2.66064, saving model to /home/jovyan/murphy/where_am_i/saved_models/keras_cifar10_trained_model.h5\n",
      "16/16 [==============================] - 3s 166ms/step - loss: 2.6878 - acc: 0.0920 - val_loss: 2.6606 - val_acc: 0.1024\n",
      "Epoch 2/50\n",
      "15/16 [===========================>..] - ETA: 0s - loss: 2.6224 - acc: 0.1308\n",
      "Epoch 00002: val_loss improved from 2.66064 to 2.49232, saving model to /home/jovyan/murphy/where_am_i/saved_models/keras_cifar10_trained_model.h5\n",
      "16/16 [==============================] - 1s 67ms/step - loss: 2.6183 - acc: 0.1329 - val_loss: 2.4923 - val_acc: 0.1917\n",
      "Epoch 3/50\n",
      "14/16 [=========================>....] - ETA: 0s - loss: 2.4850 - acc: 0.1693\n",
      "Epoch 00003: val_loss improved from 2.49232 to 2.31304, saving model to /home/jovyan/murphy/where_am_i/saved_models/keras_cifar10_trained_model.h5\n",
      "16/16 [==============================] - 1s 71ms/step - loss: 2.4701 - acc: 0.1804 - val_loss: 2.3130 - val_acc: 0.2292\n",
      "Epoch 4/50\n",
      "13/16 [=======================>......] - ETA: 0s - loss: 2.2846 - acc: 0.2208\n",
      "Epoch 00004: val_loss improved from 2.31304 to 2.11692, saving model to /home/jovyan/murphy/where_am_i/saved_models/keras_cifar10_trained_model.h5\n",
      "16/16 [==============================] - 1s 67ms/step - loss: 2.2910 - acc: 0.2218 - val_loss: 2.1169 - val_acc: 0.2961\n",
      "Epoch 5/50\n",
      "15/16 [===========================>..] - ETA: 0s - loss: 2.2524 - acc: 0.2496\n",
      "Epoch 00005: val_loss improved from 2.11692 to 2.10430, saving model to /home/jovyan/murphy/where_am_i/saved_models/keras_cifar10_trained_model.h5\n",
      "16/16 [==============================] - 1s 68ms/step - loss: 2.2512 - acc: 0.2491 - val_loss: 2.1043 - val_acc: 0.2799\n",
      "Epoch 6/50\n",
      "13/16 [=======================>......] - ETA: 0s - loss: 2.2003 - acc: 0.2554\n",
      "Epoch 00006: val_loss improved from 2.10430 to 2.00334, saving model to /home/jovyan/murphy/where_am_i/saved_models/keras_cifar10_trained_model.h5\n",
      "16/16 [==============================] - 1s 77ms/step - loss: 2.1811 - acc: 0.2646 - val_loss: 2.0033 - val_acc: 0.3316\n",
      "Epoch 7/50\n",
      "14/16 [=========================>....] - ETA: 0s - loss: 2.1722 - acc: 0.2951\n",
      "Epoch 00007: val_loss improved from 2.00334 to 1.97548, saving model to /home/jovyan/murphy/where_am_i/saved_models/keras_cifar10_trained_model.h5\n",
      "16/16 [==============================] - 1s 76ms/step - loss: 2.1714 - acc: 0.2949 - val_loss: 1.9755 - val_acc: 0.3316\n",
      "Epoch 8/50\n",
      "13/16 [=======================>......] - ETA: 0s - loss: 2.0539 - acc: 0.3095\n",
      "Epoch 00008: val_loss improved from 1.97548 to 1.91755, saving model to /home/jovyan/murphy/where_am_i/saved_models/keras_cifar10_trained_model.h5\n",
      "16/16 [==============================] - 1s 80ms/step - loss: 2.0631 - acc: 0.3061 - val_loss: 1.9176 - val_acc: 0.3337\n",
      "Epoch 9/50\n",
      "14/16 [=========================>....] - ETA: 0s - loss: 1.9864 - acc: 0.3251\n",
      "Epoch 00009: val_loss improved from 1.91755 to 1.77910, saving model to /home/jovyan/murphy/where_am_i/saved_models/keras_cifar10_trained_model.h5\n",
      "16/16 [==============================] - 1s 71ms/step - loss: 1.9826 - acc: 0.3305 - val_loss: 1.7791 - val_acc: 0.3884\n",
      "Epoch 10/50\n",
      "14/16 [=========================>....] - ETA: 0s - loss: 1.8886 - acc: 0.3532\n",
      "Epoch 00010: val_loss improved from 1.77910 to 1.66040, saving model to /home/jovyan/murphy/where_am_i/saved_models/keras_cifar10_trained_model.h5\n",
      "16/16 [==============================] - 1s 77ms/step - loss: 1.8780 - acc: 0.3554 - val_loss: 1.6604 - val_acc: 0.4199\n",
      "Epoch 11/50\n",
      "14/16 [=========================>....] - ETA: 0s - loss: 1.8854 - acc: 0.3417\n",
      "Epoch 00011: val_loss did not improve\n",
      "16/16 [==============================] - 1s 69ms/step - loss: 1.8764 - acc: 0.3444 - val_loss: 1.7563 - val_acc: 0.3874\n",
      "Epoch 12/50\n",
      "13/16 [=======================>......] - ETA: 0s - loss: 1.8052 - acc: 0.3972\n",
      "Epoch 00012: val_loss improved from 1.66040 to 1.63266, saving model to /home/jovyan/murphy/where_am_i/saved_models/keras_cifar10_trained_model.h5\n",
      "16/16 [==============================] - 1s 77ms/step - loss: 1.7860 - acc: 0.4098 - val_loss: 1.6327 - val_acc: 0.4189\n",
      "Epoch 13/50\n",
      "13/16 [=======================>......] - ETA: 0s - loss: 1.7568 - acc: 0.4014\n",
      "Epoch 00013: val_loss improved from 1.63266 to 1.59348, saving model to /home/jovyan/murphy/where_am_i/saved_models/keras_cifar10_trained_model.h5\n",
      "16/16 [==============================] - 1s 74ms/step - loss: 1.7400 - acc: 0.4114 - val_loss: 1.5935 - val_acc: 0.4320\n",
      "Epoch 14/50\n",
      "13/16 [=======================>......] - ETA: 0s - loss: 1.7044 - acc: 0.4189\n",
      "Epoch 00014: val_loss improved from 1.59348 to 1.57445, saving model to /home/jovyan/murphy/where_am_i/saved_models/keras_cifar10_trained_model.h5\n",
      "16/16 [==============================] - 1s 76ms/step - loss: 1.7135 - acc: 0.4176 - val_loss: 1.5744 - val_acc: 0.4594\n",
      "Epoch 15/50\n",
      "13/16 [=======================>......] - ETA: 0s - loss: 1.6320 - acc: 0.4549\n",
      "Epoch 00015: val_loss improved from 1.57445 to 1.48775, saving model to /home/jovyan/murphy/where_am_i/saved_models/keras_cifar10_trained_model.h5\n",
      "16/16 [==============================] - 1s 83ms/step - loss: 1.6462 - acc: 0.4492 - val_loss: 1.4877 - val_acc: 0.4888\n",
      "Epoch 16/50\n",
      "14/16 [=========================>....] - ETA: 0s - loss: 1.6504 - acc: 0.4443\n",
      "Epoch 00016: val_loss improved from 1.48775 to 1.47965, saving model to /home/jovyan/murphy/where_am_i/saved_models/keras_cifar10_trained_model.h5\n",
      "16/16 [==============================] - 1s 76ms/step - loss: 1.6513 - acc: 0.4470 - val_loss: 1.4797 - val_acc: 0.4797\n",
      "Epoch 17/50\n",
      "15/16 [===========================>..] - ETA: 0s - loss: 1.5815 - acc: 0.4749\n",
      "Epoch 00017: val_loss improved from 1.47965 to 1.44591, saving model to /home/jovyan/murphy/where_am_i/saved_models/keras_cifar10_trained_model.h5\n",
      "16/16 [==============================] - 1s 73ms/step - loss: 1.5803 - acc: 0.4764 - val_loss: 1.4459 - val_acc: 0.5000\n",
      "Epoch 18/50\n",
      "14/16 [=========================>....] - ETA: 0s - loss: 1.5220 - acc: 0.4924\n",
      "Epoch 00018: val_loss improved from 1.44591 to 1.43601, saving model to /home/jovyan/murphy/where_am_i/saved_models/keras_cifar10_trained_model.h5\n",
      "16/16 [==============================] - 1s 71ms/step - loss: 1.5300 - acc: 0.4911 - val_loss: 1.4360 - val_acc: 0.5081\n",
      "Epoch 19/50\n",
      "13/16 [=======================>......] - ETA: 0s - loss: 1.5074 - acc: 0.4889\n",
      "Epoch 00019: val_loss improved from 1.43601 to 1.36379, saving model to /home/jovyan/murphy/where_am_i/saved_models/keras_cifar10_trained_model.h5\n",
      "16/16 [==============================] - 1s 73ms/step - loss: 1.5151 - acc: 0.4925 - val_loss: 1.3638 - val_acc: 0.5416\n",
      "Epoch 20/50\n",
      "14/16 [=========================>....] - ETA: 0s - loss: 1.4804 - acc: 0.5116\n",
      "Epoch 00020: val_loss did not improve\n",
      "16/16 [==============================] - 1s 70ms/step - loss: 1.4852 - acc: 0.5121 - val_loss: 1.3934 - val_acc: 0.5172\n",
      "Epoch 21/50\n",
      "15/16 [===========================>..] - ETA: 0s - loss: 1.4780 - acc: 0.4992\n",
      "Epoch 00021: val_loss did not improve\n",
      "16/16 [==============================] - 1s 69ms/step - loss: 1.4808 - acc: 0.4972 - val_loss: 1.3672 - val_acc: 0.5304\n",
      "Epoch 22/50\n",
      "14/16 [=========================>....] - ETA: 0s - loss: 1.4785 - acc: 0.4973\n",
      "Epoch 00022: val_loss improved from 1.36379 to 1.32369, saving model to /home/jovyan/murphy/where_am_i/saved_models/keras_cifar10_trained_model.h5\n",
      "16/16 [==============================] - 1s 75ms/step - loss: 1.4757 - acc: 0.4986 - val_loss: 1.3237 - val_acc: 0.5456\n",
      "Epoch 23/50\n",
      "14/16 [=========================>....] - ETA: 0s - loss: 1.3952 - acc: 0.5330\n",
      "Epoch 00023: val_loss improved from 1.32369 to 1.28004, saving model to /home/jovyan/murphy/where_am_i/saved_models/keras_cifar10_trained_model.h5\n",
      "16/16 [==============================] - 1s 67ms/step - loss: 1.4020 - acc: 0.5318 - val_loss: 1.2800 - val_acc: 0.5659\n",
      "Epoch 24/50\n",
      "15/16 [===========================>..] - ETA: 0s - loss: 1.3686 - acc: 0.5326\n",
      "Epoch 00024: val_loss did not improve\n",
      "16/16 [==============================] - 1s 68ms/step - loss: 1.3648 - acc: 0.5380 - val_loss: 1.3046 - val_acc: 0.5517\n",
      "Epoch 25/50\n",
      "13/16 [=======================>......] - ETA: 0s - loss: 1.3685 - acc: 0.5493\n",
      "Epoch 00025: val_loss did not improve\n",
      "16/16 [==============================] - 1s 72ms/step - loss: 1.3613 - acc: 0.5522 - val_loss: 1.3004 - val_acc: 0.5487\n",
      "Epoch 26/50\n",
      "13/16 [=======================>......] - ETA: 0s - loss: 1.3427 - acc: 0.5460\n",
      "Epoch 00026: val_loss did not improve\n",
      "16/16 [==============================] - 1s 71ms/step - loss: 1.3257 - acc: 0.5446 - val_loss: 1.3223 - val_acc: 0.5487\n",
      "Epoch 27/50\n",
      "15/16 [===========================>..] - ETA: 0s - loss: 1.3424 - acc: 0.5613\n",
      "Epoch 00027: val_loss did not improve\n",
      "16/16 [==============================] - 1s 70ms/step - loss: 1.3430 - acc: 0.5604 - val_loss: 1.3127 - val_acc: 0.5446\n",
      "Epoch 28/50\n",
      "15/16 [===========================>..] - ETA: 0s - loss: 1.2896 - acc: 0.5732\n",
      "Epoch 00028: val_loss improved from 1.28004 to 1.22112, saving model to /home/jovyan/murphy/where_am_i/saved_models/keras_cifar10_trained_model.h5\n",
      "16/16 [==============================] - 1s 73ms/step - loss: 1.2819 - acc: 0.5764 - val_loss: 1.2211 - val_acc: 0.5791\n",
      "Epoch 29/50\n",
      "15/16 [===========================>..] - ETA: 0s - loss: 1.2910 - acc: 0.5720\n",
      "Epoch 00029: val_loss improved from 1.22112 to 1.20955, saving model to /home/jovyan/murphy/where_am_i/saved_models/keras_cifar10_trained_model.h5\n",
      "16/16 [==============================] - 1s 69ms/step - loss: 1.2943 - acc: 0.5708 - val_loss: 1.2096 - val_acc: 0.5740\n",
      "Epoch 30/50\n",
      "15/16 [===========================>..] - ETA: 0s - loss: 1.2389 - acc: 0.5851\n",
      "Epoch 00030: val_loss did not improve\n",
      "16/16 [==============================] - 1s 66ms/step - loss: 1.2461 - acc: 0.5814 - val_loss: 1.2721 - val_acc: 0.5791\n",
      "Epoch 31/50\n",
      "15/16 [===========================>..] - ETA: 0s - loss: 1.2348 - acc: 0.5733\n",
      "Epoch 00031: val_loss improved from 1.20955 to 1.15410, saving model to /home/jovyan/murphy/where_am_i/saved_models/keras_cifar10_trained_model.h5\n",
      "16/16 [==============================] - 1s 68ms/step - loss: 1.2440 - acc: 0.5677 - val_loss: 1.1541 - val_acc: 0.6004\n",
      "Epoch 32/50\n",
      "14/16 [=========================>....] - ETA: 0s - loss: 1.1934 - acc: 0.5937\n",
      "Epoch 00032: val_loss did not improve\n",
      "16/16 [==============================] - 1s 67ms/step - loss: 1.2042 - acc: 0.5906 - val_loss: 1.2856 - val_acc: 0.5598\n",
      "Epoch 33/50\n",
      "14/16 [=========================>....] - ETA: 0s - loss: 1.2002 - acc: 0.5881\n",
      "Epoch 00033: val_loss did not improve\n",
      "16/16 [==============================] - 1s 72ms/step - loss: 1.1870 - acc: 0.5941 - val_loss: 1.1962 - val_acc: 0.5933\n",
      "Epoch 34/50\n",
      "13/16 [=======================>......] - ETA: 0s - loss: 1.1707 - acc: 0.6076\n",
      "Epoch 00034: val_loss did not improve\n",
      "16/16 [==============================] - 1s 68ms/step - loss: 1.1790 - acc: 0.6065 - val_loss: 1.2010 - val_acc: 0.5994\n",
      "Epoch 35/50\n",
      "13/16 [=======================>......] - ETA: 0s - loss: 1.1713 - acc: 0.6004\n",
      "Epoch 00035: val_loss did not improve\n",
      "16/16 [==============================] - 1s 72ms/step - loss: 1.1937 - acc: 0.5977 - val_loss: 1.1829 - val_acc: 0.5852\n",
      "Epoch 36/50\n",
      "14/16 [=========================>....] - ETA: 0s - loss: 1.2048 - acc: 0.5828\n",
      "Epoch 00036: val_loss improved from 1.15410 to 1.13644, saving model to /home/jovyan/murphy/where_am_i/saved_models/keras_cifar10_trained_model.h5\n",
      "16/16 [==============================] - 1s 73ms/step - loss: 1.2176 - acc: 0.5773 - val_loss: 1.1364 - val_acc: 0.6176\n",
      "Epoch 37/50\n",
      "15/16 [===========================>..] - ETA: 0s - loss: 1.1080 - acc: 0.6221\n",
      "Epoch 00037: val_loss did not improve\n",
      "16/16 [==============================] - 1s 65ms/step - loss: 1.1054 - acc: 0.6252 - val_loss: 1.1545 - val_acc: 0.6085\n",
      "Epoch 38/50\n",
      "14/16 [=========================>....] - ETA: 0s - loss: 1.0835 - acc: 0.6434\n",
      "Epoch 00038: val_loss did not improve\n",
      "16/16 [==============================] - 1s 66ms/step - loss: 1.0970 - acc: 0.6378 - val_loss: 1.1643 - val_acc: 0.6146\n",
      "Epoch 39/50\n",
      "14/16 [=========================>....] - ETA: 0s - loss: 1.1539 - acc: 0.6249\n",
      "Epoch 00039: val_loss did not improve\n",
      "16/16 [==============================] - 1s 65ms/step - loss: 1.1700 - acc: 0.6213 - val_loss: 1.2306 - val_acc: 0.5761\n",
      "Epoch 40/50\n",
      "15/16 [===========================>..] - ETA: 0s - loss: 1.1134 - acc: 0.6235\n",
      "Epoch 00040: val_loss improved from 1.13644 to 1.12393, saving model to /home/jovyan/murphy/where_am_i/saved_models/keras_cifar10_trained_model.h5\n",
      "16/16 [==============================] - 1s 67ms/step - loss: 1.1170 - acc: 0.6202 - val_loss: 1.1239 - val_acc: 0.6095\n",
      "Epoch 41/50\n",
      "14/16 [=========================>....] - ETA: 0s - loss: 1.1056 - acc: 0.6272\n",
      "Epoch 00041: val_loss did not improve\n",
      "16/16 [==============================] - 1s 66ms/step - loss: 1.0997 - acc: 0.6255 - val_loss: 1.1478 - val_acc: 0.6146\n",
      "Epoch 42/50\n",
      "15/16 [===========================>..] - ETA: 0s - loss: 1.0852 - acc: 0.6443\n",
      "Epoch 00042: val_loss did not improve\n",
      "16/16 [==============================] - 1s 63ms/step - loss: 1.0862 - acc: 0.6411 - val_loss: 1.1929 - val_acc: 0.5811\n",
      "Epoch 43/50\n",
      "15/16 [===========================>..] - ETA: 0s - loss: 1.0900 - acc: 0.6195\n",
      "Epoch 00043: val_loss improved from 1.12393 to 1.11618, saving model to /home/jovyan/murphy/where_am_i/saved_models/keras_cifar10_trained_model.h5\n",
      "16/16 [==============================] - 1s 69ms/step - loss: 1.0905 - acc: 0.6209 - val_loss: 1.1162 - val_acc: 0.6156\n",
      "Epoch 44/50\n",
      "14/16 [=========================>....] - ETA: 0s - loss: 1.0350 - acc: 0.6468\n",
      "Epoch 00044: val_loss did not improve\n",
      "16/16 [==============================] - 1s 67ms/step - loss: 1.0414 - acc: 0.6417 - val_loss: 1.1520 - val_acc: 0.6217\n",
      "Epoch 45/50\n",
      "13/16 [=======================>......] - ETA: 0s - loss: 1.0703 - acc: 0.6262\n",
      "Epoch 00045: val_loss improved from 1.11618 to 1.11485, saving model to /home/jovyan/murphy/where_am_i/saved_models/keras_cifar10_trained_model.h5\n",
      "16/16 [==============================] - 1s 73ms/step - loss: 1.0705 - acc: 0.6354 - val_loss: 1.1148 - val_acc: 0.6166\n",
      "Epoch 46/50\n",
      "13/16 [=======================>......] - ETA: 0s - loss: 1.0421 - acc: 0.6490\n",
      "Epoch 00046: val_loss did not improve\n",
      "16/16 [==============================] - 1s 66ms/step - loss: 1.0377 - acc: 0.6544 - val_loss: 1.1507 - val_acc: 0.6166\n",
      "Epoch 47/50\n",
      "13/16 [=======================>......] - ETA: 0s - loss: 1.0255 - acc: 0.6689\n",
      "Epoch 00047: val_loss improved from 1.11485 to 1.09476, saving model to /home/jovyan/murphy/where_am_i/saved_models/keras_cifar10_trained_model.h5\n",
      "16/16 [==============================] - 1s 72ms/step - loss: 1.0266 - acc: 0.6651 - val_loss: 1.0948 - val_acc: 0.6217\n",
      "Epoch 48/50\n",
      "14/16 [=========================>....] - ETA: 0s - loss: 0.9522 - acc: 0.6704\n",
      "Epoch 00048: val_loss did not improve\n",
      "16/16 [==============================] - 1s 70ms/step - loss: 0.9828 - acc: 0.6633 - val_loss: 1.1859 - val_acc: 0.6004\n",
      "Epoch 49/50\n",
      "14/16 [=========================>....] - ETA: 0s - loss: 1.0088 - acc: 0.6652\n",
      "Epoch 00049: val_loss did not improve\n",
      "16/16 [==============================] - 1s 70ms/step - loss: 1.0019 - acc: 0.6703 - val_loss: 1.1305 - val_acc: 0.6136\n",
      "Epoch 50/50\n",
      "14/16 [=========================>....] - ETA: 0s - loss: 0.9675 - acc: 0.6699\n",
      "Epoch 00050: val_loss improved from 1.09476 to 1.08372, saving model to /home/jovyan/murphy/where_am_i/saved_models/keras_cifar10_trained_model.h5\n",
      "16/16 [==============================] - 1s 77ms/step - loss: 0.9740 - acc: 0.6662 - val_loss: 1.0837 - val_acc: 0.6318\n",
      "Loading trained model\n",
      "986/986 [==============================] - 0s 163us/step\n",
      "Test loss: 1.08372462884\n",
      "Test accuracy: 0.631845842389\n"
     ]
    }
   ],
   "source": [
    "batch_size = 128\n",
    "epochs = 50\n",
    "\n",
    "print('Using real-time data augmentation.')\n",
    "# This will do preprocessing and realtime data augmentation:\n",
    "datagen = ImageDataGenerator(\n",
    "    rotation_range=30,  # randomly rotate images in the range (degrees, 0 to 180)\n",
    "    width_shift_range=0.1,  # randomly shift images horizontally (fraction of total width)\n",
    "    height_shift_range=0.1,  # randomly shift images vertically (fraction of total height)\n",
    "    horizontal_flip=True,  # randomly flip images\n",
    "    vertical_flip=False)  # randomly flip images\n",
    "\n",
    "# Use ModelCheckpoint to save model and weights\n",
    "if not os.path.isdir(save_dir):\n",
    "    os.makedirs(save_dir)\n",
    "model_path = os.path.join(save_dir, model_name)\n",
    "checkpoint = ModelCheckpoint(model_path, monitor='val_loss', save_best_only=True, verbose=1)\n",
    "\n",
    "# earlystop\n",
    "earlystop = EarlyStopping(monitor='val_loss', patience=5, verbose=1)\n",
    "\n",
    "# Fit the model on the batches generated by datagen.flow().\n",
    "model_history = model.fit_generator(datagen.flow(x_train, y_train,\n",
    "                                 batch_size=batch_size),\n",
    "                    epochs=epochs,\n",
    "                    validation_data=(x_test, y_test),\n",
    "                    workers=4,\n",
    "                    callbacks=[earlystop, checkpoint])\n",
    "\n",
    "# loading our save model\n",
    "print(\"Loading trained model\")\n",
    "model = load_model(model_path)\n",
    "\n",
    "# Score trained model.\n",
    "scores = model.evaluate(x_test, y_test, verbose=1)\n",
    "print('Test loss:', scores[0])\n",
    "print('Test accuracy:', scores[1])"
   ]
  },
  {
   "cell_type": "code",
   "execution_count": 14,
   "metadata": {},
   "outputs": [
    {
     "data": {
      "image/png": "[encoded data removed]",
      "text/plain": [
       "<Figure size 432x288 with 1 Axes>"
      ]
     },
     "metadata": {},
     "output_type": "display_data"
    }
   ],
   "source": [
    "training_loss = model_history.history['loss']\n",
    "val_loss = model_history.history['val_loss']\n",
    "\n",
    "plt.plot(training_loss, label=\"training_loss\")\n",
    "plt.plot(val_loss, label=\"validation_loss\")\n",
    "plt.xlabel(\"Epochs\")\n",
    "plt.ylabel(\"Loss\")\n",
    "plt.title(\"Learning Curve\")\n",
    "plt.legend(loc='best')\n",
    "plt.show()"
   ]
  },
  {
   "cell_type": "code",
   "execution_count": 15,
   "metadata": {},
   "outputs": [
    {
     "name": "stdout",
     "output_type": "stream",
     "text": [
      "(1500, 2) 001d4c8d70ebf7f025fccf256324d3d5ad3560faee1cdf8c7115f5eb033bc3d2 /data/examples/may_the_4_be_with_u/where_am_i/testset/001d4c8d70ebf7f025fccf256324d3d5ad3560faee1cdf8c7115f5eb033bc3d2.jpg\n"
     ]
    }
   ],
   "source": [
    "import os\n",
    "import pandas as pd\n",
    "\n",
    "testList = []\n",
    "for dirname, dirnames, filenames in os.walk('/data/examples/may_the_4_be_with_u/where_am_i/testset'):\n",
    "    # print path to all subdirectories first.\n",
    "    #for subdirname in dirnames:\n",
    "     #   print(os.path.join(dirname, subdirname))\n",
    "    \n",
    "    # print path to all filenames.\n",
    "    for filename in filenames:\n",
    "        folderName = dirname.replace('/data/examples/may_the_4_be_with_u/where_am_i/testset/','')\n",
    "        #print(folderName, filename)\n",
    "        row = []\n",
    "        row.append(filename.replace('.jpg',''))\n",
    "        row.append(os.path.join(dirname, filename))\n",
    "        testList.append(row)\n",
    "        \n",
    "testDf = pd.DataFrame(testList, columns=['id','path'])        \n",
    "  \n",
    "print(testDf.shape, testDf.iloc[0,0], testDf.iloc[0,1])"
   ]
  },
  {
   "cell_type": "code",
   "execution_count": 16,
   "metadata": {},
   "outputs": [
    {
     "data": {
      "text/html": [
       "<div>\n",
       "<style scoped>\n",
       "    .dataframe tbody tr th:only-of-type {\n",
       "        vertical-align: middle;\n",
       "    }\n",
       "\n",
       "    .dataframe tbody tr th {\n",
       "        vertical-align: top;\n",
       "    }\n",
       "\n",
       "    .dataframe thead th {\n",
       "        text-align: right;\n",
       "    }\n",
       "</style>\n",
       "<table border=\"1\" class=\"dataframe\">\n",
       "  <thead>\n",
       "    <tr style=\"text-align: right;\">\n",
       "      <th></th>\n",
       "      <th>id</th>\n",
       "      <th>path</th>\n",
       "    </tr>\n",
       "  </thead>\n",
       "  <tbody>\n",
       "    <tr>\n",
       "      <th>0</th>\n",
       "      <td>001d4c8d70ebf7f025fccf256324d3d5ad3560faee1cdf...</td>\n",
       "      <td>/data/examples/may_the_4_be_with_u/where_am_i/...</td>\n",
       "    </tr>\n",
       "    <tr>\n",
       "      <th>1</th>\n",
       "      <td>00317b9d4bed4a2b1017e2bd31b9bf2f25bad05a65f570...</td>\n",
       "      <td>/data/examples/may_the_4_be_with_u/where_am_i/...</td>\n",
       "    </tr>\n",
       "    <tr>\n",
       "      <th>2</th>\n",
       "      <td>003d15d71c1514af5bb8734a96bae2c4d1ce299da8d369...</td>\n",
       "      <td>/data/examples/may_the_4_be_with_u/where_am_i/...</td>\n",
       "    </tr>\n",
       "    <tr>\n",
       "      <th>3</th>\n",
       "      <td>013c78d920be5390dbc66ca238ae3f49a2b0cf13e36013...</td>\n",
       "      <td>/data/examples/may_the_4_be_with_u/where_am_i/...</td>\n",
       "    </tr>\n",
       "    <tr>\n",
       "      <th>4</th>\n",
       "      <td>0175d5cda7ae5f6767187eef4bc29e0be62a5506acfdcf...</td>\n",
       "      <td>/data/examples/may_the_4_be_with_u/where_am_i/...</td>\n",
       "    </tr>\n",
       "  </tbody>\n",
       "</table>\n",
       "</div>"
      ],
      "text/plain": [
       "                                                  id  \\\n",
       "0  001d4c8d70ebf7f025fccf256324d3d5ad3560faee1cdf...   \n",
       "1  00317b9d4bed4a2b1017e2bd31b9bf2f25bad05a65f570...   \n",
       "2  003d15d71c1514af5bb8734a96bae2c4d1ce299da8d369...   \n",
       "3  013c78d920be5390dbc66ca238ae3f49a2b0cf13e36013...   \n",
       "4  0175d5cda7ae5f6767187eef4bc29e0be62a5506acfdcf...   \n",
       "\n",
       "                                                path  \n",
       "0  /data/examples/may_the_4_be_with_u/where_am_i/...  \n",
       "1  /data/examples/may_the_4_be_with_u/where_am_i/...  \n",
       "2  /data/examples/may_the_4_be_with_u/where_am_i/...  \n",
       "3  /data/examples/may_the_4_be_with_u/where_am_i/...  \n",
       "4  /data/examples/may_the_4_be_with_u/where_am_i/...  "
      ]
     },
     "execution_count": 16,
     "metadata": {},
     "output_type": "execute_result"
    }
   ],
   "source": [
    "testDf.head()"
   ]
  },
  {
   "cell_type": "code",
   "execution_count": 17,
   "metadata": {},
   "outputs": [
    {
     "name": "stdout",
     "output_type": "stream",
     "text": [
      "(1500,)\n"
     ]
    }
   ],
   "source": [
    "imgTest = np.array([cv2.resize(cv2.imread(t), resize) for t in testDf['path']])\n",
    "imgTest = imgTest.astype('float32')\n",
    "imgTest /= 255.\n",
    "y_pred=model.predict_classes(imgTest)\n",
    "\n",
    "print(y_pred.shape)"
   ]
  },
  {
   "cell_type": "code",
   "execution_count": 18,
   "metadata": {},
   "outputs": [
    {
     "name": "stdout",
     "output_type": "stream",
     "text": [
      "(1500, 2)\n"
     ]
    }
   ],
   "source": [
    "\n",
    "\n",
    "out = pd.DataFrame()\n",
    "out['id'] = testDf['id']\n",
    "out['class'] = y_pred\n",
    "print(out.shape)\n",
    "out.to_csv('submit.csv',index=False)"
   ]
  },
  {
   "cell_type": "code",
   "execution_count": null,
   "metadata": {},
   "outputs": [],
   "source": []
  }
 ],
 "metadata": {
  "kernelspec": {
   "display_name": "Python 3",
   "language": "python",
   "name": "python3"
  },
  "language_info": {
   "codemirror_mode": {
    "name": "ipython",
    "version": 3
   },
   "file_extension": ".py",
   "mimetype": "text/x-python",
   "name": "python",
   "nbconvert_exporter": "python",
   "pygments_lexer": "ipython3",
   "version": "3.6.4"
  },
  "varInspector": {
   "cols": {
    "lenName": 16,
    "lenType": 16,
    "lenVar": 40
   },
   "kernels_config": {
    "python": {
     "delete_cmd_postfix": "",
     "delete_cmd_prefix": "del ",
     "library": "var_list.py",
     "varRefreshCmd": "print(var_dic_list())"
    },
    "r": {
     "delete_cmd_postfix": ") ",
     "delete_cmd_prefix": "rm(",
     "library": "var_list.r",
     "varRefreshCmd": "cat(var_dic_list()) "
    }
   },
   "types_to_exclude": [
    "module",
    "function",
    "builtin_function_or_method",
    "instance",
    "_Feature"
   ],
   "window_display": false
  }
 },
 "nbformat": 4,
 "nbformat_minor": 2
}
