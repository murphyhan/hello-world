{
 "cells": [
  {
   "cell_type": "code",
   "execution_count": 1,
   "metadata": {},
   "outputs": [
    {
     "name": "stdout",
     "output_type": "stream",
     "text": [
      "15 {'CALsuburb': 9, 'PARoffice': 7, 'bedroom': 12, 'coast': 10, 'forest': 4, 'highway': 14, 'industrial': 2, 'insidecity': 3, 'kitchen': 0, 'livingroom': 5, 'mountain': 8, 'opencountry': 6, 'store': 11, 'street': 1, 'tallbuilding': 13}\n"
     ]
    }
   ],
   "source": [
    "import numpy as np\n",
    "import pandas as pd\n",
    "\n",
    "path = '/data/examples/may_the_4_be_with_u/where_am_i/'\n",
    "\n",
    "# make a label map\n",
    "df = pd.read_csv(path + 'mapping.txt', header=None)\n",
    "yMap = dict(zip(df[0], df[1]))\n",
    "print(len(yMap), yMap)"
   ]
  },
  {
   "cell_type": "code",
   "execution_count": 2,
   "metadata": {},
   "outputs": [
    {
     "name": "stdout",
     "output_type": "stream",
     "text": [
      "/data/examples/may_the_4_be_with_u/where_am_i/train/CALsuburb/image_0001.jpg\n",
      "/data/examples/may_the_4_be_with_u/where_am_i/train/PARoffice/image_0001.jpg\n",
      "/data/examples/may_the_4_be_with_u/where_am_i/train/bedroom/image_0001.jpg\n",
      "/data/examples/may_the_4_be_with_u/where_am_i/train/coast/image_0001.jpg\n",
      "/data/examples/may_the_4_be_with_u/where_am_i/train/forest/image_0001.jpg\n",
      "/data/examples/may_the_4_be_with_u/where_am_i/train/highway/image_0001.jpg\n",
      "/data/examples/may_the_4_be_with_u/where_am_i/train/industrial/image_0001.jpg\n",
      "/data/examples/may_the_4_be_with_u/where_am_i/train/insidecity/image_0001.jpg\n",
      "/data/examples/may_the_4_be_with_u/where_am_i/train/kitchen/image_0001.jpg\n",
      "/data/examples/may_the_4_be_with_u/where_am_i/train/livingroom/image_0001.jpg\n",
      "/data/examples/may_the_4_be_with_u/where_am_i/train/mountain/image_0001.jpg\n",
      "/data/examples/may_the_4_be_with_u/where_am_i/train/opencountry/image_0001.jpg\n",
      "/data/examples/may_the_4_be_with_u/where_am_i/train/store/image_0001.jpg\n",
      "/data/examples/may_the_4_be_with_u/where_am_i/train/street/image_0001.jpg\n",
      "/data/examples/may_the_4_be_with_u/where_am_i/train/tallbuilding/image_0001.jpg\n"
     ]
    }
   ],
   "source": [
    "import os\n",
    "\n",
    "# show file structure\n",
    "for dirname, dirnames, filenames in os.walk(path+'train'):    \n",
    "    for filename in filenames:\n",
    "        print(os.path.join(dirname, filename))\n",
    "        break"
   ]
  },
  {
   "cell_type": "code",
   "execution_count": 3,
   "metadata": {},
   "outputs": [
    {
     "name": "stdout",
     "output_type": "stream",
     "text": [
      "(2985, 4)\n"
     ]
    }
   ],
   "source": [
    "import os\n",
    "import pandas as pd\n",
    "\n",
    "#make a image table\n",
    "trainList = []\n",
    "for dirname, dirnames, filenames in os.walk(path+'train'):    \n",
    "    for filename in filenames:\n",
    "        folderName = os.path.split(dirname)[-1]\n",
    "        #print(os.path.join(dirname, filename), folderName)        \n",
    "        row = []\n",
    "        row.append(yMap[folderName])\n",
    "        row.append(folderName)\n",
    "        row.append(filename)\n",
    "        row.append(os.path.join(dirname, filename))\n",
    "        trainList.append(row)        \n",
    "        \n",
    "trainDf = pd.DataFrame(trainList, columns=['label','folder','file','path'])          \n",
    "print(trainDf.shape)"
   ]
  },
  {
   "cell_type": "code",
   "execution_count": 4,
   "metadata": {},
   "outputs": [
    {
     "data": {
      "text/html": [
       "<div>\n",
       "<style scoped>\n",
       "    .dataframe tbody tr th:only-of-type {\n",
       "        vertical-align: middle;\n",
       "    }\n",
       "\n",
       "    .dataframe tbody tr th {\n",
       "        vertical-align: top;\n",
       "    }\n",
       "\n",
       "    .dataframe thead th {\n",
       "        text-align: right;\n",
       "    }\n",
       "</style>\n",
       "<table border=\"1\" class=\"dataframe\">\n",
       "  <thead>\n",
       "    <tr style=\"text-align: right;\">\n",
       "      <th></th>\n",
       "      <th>label</th>\n",
       "      <th>folder</th>\n",
       "      <th>file</th>\n",
       "      <th>path</th>\n",
       "    </tr>\n",
       "  </thead>\n",
       "  <tbody>\n",
       "    <tr>\n",
       "      <th>0</th>\n",
       "      <td>9</td>\n",
       "      <td>CALsuburb</td>\n",
       "      <td>image_0001.jpg</td>\n",
       "      <td>/data/examples/may_the_4_be_with_u/where_am_i/...</td>\n",
       "    </tr>\n",
       "    <tr>\n",
       "      <th>1</th>\n",
       "      <td>9</td>\n",
       "      <td>CALsuburb</td>\n",
       "      <td>image_0002.jpg</td>\n",
       "      <td>/data/examples/may_the_4_be_with_u/where_am_i/...</td>\n",
       "    </tr>\n",
       "    <tr>\n",
       "      <th>2</th>\n",
       "      <td>9</td>\n",
       "      <td>CALsuburb</td>\n",
       "      <td>image_0003.jpg</td>\n",
       "      <td>/data/examples/may_the_4_be_with_u/where_am_i/...</td>\n",
       "    </tr>\n",
       "    <tr>\n",
       "      <th>3</th>\n",
       "      <td>9</td>\n",
       "      <td>CALsuburb</td>\n",
       "      <td>image_0004.jpg</td>\n",
       "      <td>/data/examples/may_the_4_be_with_u/where_am_i/...</td>\n",
       "    </tr>\n",
       "    <tr>\n",
       "      <th>4</th>\n",
       "      <td>9</td>\n",
       "      <td>CALsuburb</td>\n",
       "      <td>image_0005.jpg</td>\n",
       "      <td>/data/examples/may_the_4_be_with_u/where_am_i/...</td>\n",
       "    </tr>\n",
       "  </tbody>\n",
       "</table>\n",
       "</div>"
      ],
      "text/plain": [
       "   label     folder            file  \\\n",
       "0      9  CALsuburb  image_0001.jpg   \n",
       "1      9  CALsuburb  image_0002.jpg   \n",
       "2      9  CALsuburb  image_0003.jpg   \n",
       "3      9  CALsuburb  image_0004.jpg   \n",
       "4      9  CALsuburb  image_0005.jpg   \n",
       "\n",
       "                                                path  \n",
       "0  /data/examples/may_the_4_be_with_u/where_am_i/...  \n",
       "1  /data/examples/may_the_4_be_with_u/where_am_i/...  \n",
       "2  /data/examples/may_the_4_be_with_u/where_am_i/...  \n",
       "3  /data/examples/may_the_4_be_with_u/where_am_i/...  \n",
       "4  /data/examples/may_the_4_be_with_u/where_am_i/...  "
      ]
     },
     "execution_count": 4,
     "metadata": {},
     "output_type": "execute_result"
    }
   ],
   "source": [
    "trainDf.head()"
   ]
  },
  {
   "cell_type": "code",
   "execution_count": 5,
   "metadata": {},
   "outputs": [
    {
     "name": "stdout",
     "output_type": "stream",
     "text": [
      "img.shape (220, 330, 3)\n",
      "color: [48 48 48]\n"
     ]
    },
    {
     "data": {
      "image/png": "[encoded data removed]",
      "text/plain": [
       "<Figure size 432x288 with 1 Axes>"
      ]
     },
     "metadata": {},
     "output_type": "display_data"
    }
   ],
   "source": [
    "import cv2\n",
    "%matplotlib inline\n",
    "import matplotlib.pyplot as plt\n",
    "\n",
    "# examine a image\n",
    "img = cv2.imread(trainDf['path'][0]) \n",
    "plt.imshow(img) #, cmap='gray'\n",
    "print('img.shape',img.shape)\n",
    "print('color:',img[0][0])\n"
   ]
  },
  {
   "cell_type": "code",
   "execution_count": 6,
   "metadata": {},
   "outputs": [
    {
     "name": "stdout",
     "output_type": "stream",
     "text": [
      "(2985, 64, 64, 3)\n"
     ]
    }
   ],
   "source": [
    "import cv2\n",
    "import numpy as np\n",
    "resize = (64, 64)\n",
    "\n",
    "#圖片變數值資料\n",
    "X = np.array([cv2.resize(cv2.imread(file), resize) for file in trainDf['path']])\n",
    "print(X.shape)\n",
    "\n",
    "# Y\n",
    "label = trainDf['label']\n"
   ]
  },
  {
   "cell_type": "code",
   "execution_count": 7,
   "metadata": {},
   "outputs": [
    {
     "name": "stdout",
     "output_type": "stream",
     "text": [
      "[48 48 48]\n",
      "[ 0.1882353  0.1882353  0.1882353]\n"
     ]
    }
   ],
   "source": [
    "import cv2\n",
    "import numpy as np\n",
    "resize = (64, 64)\n",
    "\n",
    "\n",
    "#圖片變數值資料\n",
    "X = np.array([cv2.resize(cv2.imread(t), resize) for t in trainDf['path']])\n",
    "\n",
    "#normalize X\n",
    "print(X[0][0][0])\n",
    "\n",
    "X = X.astype('float32')\n",
    "X /= 255.\n",
    "\n",
    "print(X[0][0][0])"
   ]
  },
  {
   "cell_type": "code",
   "execution_count": 8,
   "metadata": {},
   "outputs": [
    {
     "name": "stderr",
     "output_type": "stream",
     "text": [
      "Using TensorFlow backend.\n"
     ]
    },
    {
     "name": "stdout",
     "output_type": "stream",
     "text": [
      "(2985, 15)\n"
     ]
    }
   ],
   "source": [
    "#one hot encoding Y\n",
    "import keras\n",
    "\n",
    "num_classes = 15\n",
    "label = keras.utils.to_categorical(trainDf['label'], num_classes)\n",
    "\n",
    "print(label.shape)"
   ]
  },
  {
   "cell_type": "code",
   "execution_count": 9,
   "metadata": {},
   "outputs": [
    {
     "name": "stdout",
     "output_type": "stream",
     "text": [
      "(1999, 64, 64, 3) (1999, 15) (986, 64, 64, 3) (986, 15)\n",
      "[[ 0.  0.  0.  1.  0.  0.  0.  0.  0.  0.  0.  0.  0.  0.  0.]\n",
      " [ 0.  0.  0.  0.  0.  0.  0.  0.  0.  0.  0.  0.  0.  0.  1.]\n",
      " [ 0.  0.  0.  0.  0.  0.  0.  0.  0.  0.  0.  0.  0.  1.  0.]\n",
      " [ 0.  0.  0.  0.  0.  0.  0.  0.  1.  0.  0.  0.  0.  0.  0.]\n",
      " [ 0.  0.  1.  0.  0.  0.  0.  0.  0.  0.  0.  0.  0.  0.  0.]]\n"
     ]
    }
   ],
   "source": [
    "from sklearn.model_selection import train_test_split\n",
    "\n",
    "x_train, x_test, y_train, y_test = train_test_split(\n",
    "    X, label, test_size=0.33) #default就會shuffle, 不用random_state=42\n",
    "\n",
    "print(x_train.shape, y_train.shape,x_test.shape, y_test.shape)\n",
    "print(y_train[0:5])"
   ]
  },
  {
   "cell_type": "markdown",
   "metadata": {},
   "source": [
    "選擇Model開始"
   ]
  },
  {
   "cell_type": "code",
   "execution_count": 10,
   "metadata": {},
   "outputs": [
    {
     "name": "stdout",
     "output_type": "stream",
     "text": [
      "_________________________________________________________________\n",
      "Layer (type)                 Output Shape              Param #   \n",
      "=================================================================\n",
      "conv2d_1 (Conv2D)            (None, 62, 62, 64)        1792      \n",
      "_________________________________________________________________\n",
      "max_pooling2d_1 (MaxPooling2 (None, 31, 31, 64)        0         \n",
      "_________________________________________________________________\n",
      "conv2d_2 (Conv2D)            (None, 29, 29, 32)        18464     \n",
      "_________________________________________________________________\n",
      "max_pooling2d_2 (MaxPooling2 (None, 14, 14, 32)        0         \n",
      "_________________________________________________________________\n",
      "flatten_1 (Flatten)          (None, 6272)              0         \n",
      "_________________________________________________________________\n",
      "dense_1 (Dense)              (None, 512)               3211776   \n",
      "_________________________________________________________________\n",
      "dropout_1 (Dropout)          (None, 512)               0         \n",
      "_________________________________________________________________\n",
      "dense_2 (Dense)              (None, 15)                7695      \n",
      "_________________________________________________________________\n",
      "activation_1 (Activation)    (None, 15)                0         \n",
      "=================================================================\n",
      "Total params: 3,239,727\n",
      "Trainable params: 3,239,727\n",
      "Non-trainable params: 0\n",
      "_________________________________________________________________\n",
      "None\n"
     ]
    }
   ],
   "source": [
    "import keras\n",
    "from keras.datasets import cifar10\n",
    "from keras.preprocessing.image import ImageDataGenerator\n",
    "from keras.models import Sequential, load_model\n",
    "from keras.layers import Dense, Dropout, Activation, Flatten\n",
    "from keras.layers import Conv2D, MaxPooling2D\n",
    "from keras.callbacks import EarlyStopping, ModelCheckpoint\n",
    "\n",
    "import matplotlib.pyplot as plt\n",
    "import os\n",
    "\n",
    "# build our CNN model\n",
    "model = Sequential()\n",
    "model.add(Conv2D(64, (3, 3),\n",
    "                 input_shape=x_train[0].shape,activation='relu'))\n",
    "model.add(MaxPooling2D(pool_size=(2, 2)))\n",
    "\n",
    "model.add(Conv2D(32, (3, 3),activation='relu'))\n",
    "model.add(MaxPooling2D(pool_size=(2, 2)))\n",
    "\n",
    "model.add(Flatten())\n",
    "model.add(Dense(512,activation='relu'))\n",
    "model.add(Dropout(0.3))\n",
    "model.add(Dense(num_classes))\n",
    "model.add(Activation('softmax'))\n",
    "\n",
    "print(model.summary())\n"
   ]
  },
  {
   "cell_type": "code",
   "execution_count": 11,
   "metadata": {},
   "outputs": [],
   "source": [
    "\n",
    "# initiate Adam optimizer\n",
    "opt = keras.optimizers.Adam()\n",
    "\n",
    "# Let's train the model using Adam\n",
    "model.compile(loss='categorical_crossentropy',\n",
    "              optimizer=opt,\n",
    "              metrics=['accuracy'])\n",
    "\n"
   ]
  },
  {
   "cell_type": "code",
   "execution_count": 12,
   "metadata": {},
   "outputs": [
    {
     "name": "stdout",
     "output_type": "stream",
     "text": [
      "Using real-time data augmentation.\n",
      "/home/jovyan/murphy/where_am_i/saved_models\n",
      "Epoch 1/60\n",
      "15/16 [===========================>..] - ETA: 0s - loss: 2.6327 - acc: 0.1375\n",
      "Epoch 00001: val_loss improved from inf to 2.47842, saving model to /home/jovyan/murphy/where_am_i/saved_models/keras_cifar10_trained_model.h5\n",
      "16/16 [==============================] - 3s 177ms/step - loss: 2.6217 - acc: 0.1411 - val_loss: 2.4784 - val_acc: 0.1714\n",
      "Epoch 2/60\n",
      "15/16 [===========================>..] - ETA: 0s - loss: 2.3782 - acc: 0.2156\n",
      "Epoch 00002: val_loss improved from 2.47842 to 2.29785, saving model to /home/jovyan/murphy/where_am_i/saved_models/keras_cifar10_trained_model.h5\n",
      "16/16 [==============================] - 1s 55ms/step - loss: 2.3733 - acc: 0.2207 - val_loss: 2.2979 - val_acc: 0.2231\n",
      "Epoch 3/60\n",
      "14/16 [=========================>....] - ETA: 0s - loss: 2.2446 - acc: 0.2559\n",
      "Epoch 00003: val_loss improved from 2.29785 to 2.15413, saving model to /home/jovyan/murphy/where_am_i/saved_models/keras_cifar10_trained_model.h5\n",
      "16/16 [==============================] - 1s 59ms/step - loss: 2.2410 - acc: 0.2503 - val_loss: 2.1541 - val_acc: 0.3032\n",
      "Epoch 4/60\n",
      "15/16 [===========================>..] - ETA: 0s - loss: 2.1364 - acc: 0.3053\n",
      "Epoch 00004: val_loss improved from 2.15413 to 1.93623, saving model to /home/jovyan/murphy/where_am_i/saved_models/keras_cifar10_trained_model.h5\n",
      "16/16 [==============================] - 1s 61ms/step - loss: 2.1367 - acc: 0.3052 - val_loss: 1.9362 - val_acc: 0.3732\n",
      "Epoch 5/60\n",
      "15/16 [===========================>..] - ETA: 0s - loss: 2.0073 - acc: 0.3391\n",
      "Epoch 00005: val_loss did not improve\n",
      "16/16 [==============================] - 1s 58ms/step - loss: 2.0041 - acc: 0.3380 - val_loss: 1.9408 - val_acc: 0.3621\n",
      "Epoch 6/60\n",
      "13/16 [=======================>......] - ETA: 0s - loss: 1.9403 - acc: 0.3633\n",
      "Epoch 00006: val_loss improved from 1.93623 to 1.75936, saving model to /home/jovyan/murphy/where_am_i/saved_models/keras_cifar10_trained_model.h5\n",
      "16/16 [==============================] - 1s 62ms/step - loss: 1.9184 - acc: 0.3704 - val_loss: 1.7594 - val_acc: 0.4199\n",
      "Epoch 7/60\n",
      "13/16 [=======================>......] - ETA: 0s - loss: 1.8474 - acc: 0.3954\n",
      "Epoch 00007: val_loss did not improve\n",
      "16/16 [==============================] - 1s 56ms/step - loss: 1.8544 - acc: 0.3933 - val_loss: 1.8286 - val_acc: 0.4057\n",
      "Epoch 8/60\n",
      "15/16 [===========================>..] - ETA: 0s - loss: 1.7603 - acc: 0.4401\n",
      "Epoch 00008: val_loss improved from 1.75936 to 1.62763, saving model to /home/jovyan/murphy/where_am_i/saved_models/keras_cifar10_trained_model.h5\n",
      "16/16 [==============================] - 1s 64ms/step - loss: 1.7485 - acc: 0.4418 - val_loss: 1.6276 - val_acc: 0.4513\n",
      "Epoch 9/60\n",
      "15/16 [===========================>..] - ETA: 0s - loss: 1.6547 - acc: 0.4585\n",
      "Epoch 00009: val_loss improved from 1.62763 to 1.60083, saving model to /home/jovyan/murphy/where_am_i/saved_models/keras_cifar10_trained_model.h5\n",
      "16/16 [==============================] - 1s 87ms/step - loss: 1.6529 - acc: 0.4601 - val_loss: 1.6008 - val_acc: 0.4767\n",
      "Epoch 10/60\n",
      "13/16 [=======================>......] - ETA: 0s - loss: 1.5885 - acc: 0.4698\n",
      "Epoch 00010: val_loss improved from 1.60083 to 1.57613, saving model to /home/jovyan/murphy/where_am_i/saved_models/keras_cifar10_trained_model.h5\n",
      "16/16 [==============================] - 1s 86ms/step - loss: 1.5693 - acc: 0.4779 - val_loss: 1.5761 - val_acc: 0.4878\n",
      "Epoch 11/60\n",
      "13/16 [=======================>......] - ETA: 0s - loss: 1.6033 - acc: 0.4550\n",
      "Epoch 00011: val_loss did not improve\n",
      "16/16 [==============================] - 1s 58ms/step - loss: 1.5989 - acc: 0.4625 - val_loss: 1.5809 - val_acc: 0.4777\n",
      "Epoch 12/60\n",
      "13/16 [=======================>......] - ETA: 0s - loss: 1.5202 - acc: 0.4974\n",
      "Epoch 00012: val_loss improved from 1.57613 to 1.43622, saving model to /home/jovyan/murphy/where_am_i/saved_models/keras_cifar10_trained_model.h5\n",
      "16/16 [==============================] - 1s 58ms/step - loss: 1.5338 - acc: 0.4926 - val_loss: 1.4362 - val_acc: 0.5122\n",
      "Epoch 13/60\n",
      "14/16 [=========================>....] - ETA: 0s - loss: 1.4538 - acc: 0.5109\n",
      "Epoch 00013: val_loss did not improve\n",
      "16/16 [==============================] - 1s 53ms/step - loss: 1.4673 - acc: 0.5050 - val_loss: 1.4403 - val_acc: 0.5162\n",
      "Epoch 14/60\n",
      "15/16 [===========================>..] - ETA: 0s - loss: 1.4182 - acc: 0.5202\n",
      "Epoch 00014: val_loss improved from 1.43622 to 1.39766, saving model to /home/jovyan/murphy/where_am_i/saved_models/keras_cifar10_trained_model.h5\n",
      "16/16 [==============================] - 1s 58ms/step - loss: 1.4138 - acc: 0.5239 - val_loss: 1.3977 - val_acc: 0.5203\n",
      "Epoch 15/60\n",
      "14/16 [=========================>....] - ETA: 0s - loss: 1.4275 - acc: 0.5357\n",
      "Epoch 00015: val_loss did not improve\n",
      "16/16 [==============================] - 1s 58ms/step - loss: 1.4315 - acc: 0.5298 - val_loss: 1.4668 - val_acc: 0.5172\n",
      "Epoch 16/60\n",
      "13/16 [=======================>......] - ETA: 0s - loss: 1.4402 - acc: 0.5225\n",
      "Epoch 00016: val_loss did not improve\n",
      "16/16 [==============================] - 1s 54ms/step - loss: 1.4423 - acc: 0.5232 - val_loss: 1.4187 - val_acc: 0.5203\n",
      "Epoch 17/60\n",
      "13/16 [=======================>......] - ETA: 0s - loss: 1.3159 - acc: 0.5511\n",
      "Epoch 00017: val_loss improved from 1.39766 to 1.33415, saving model to /home/jovyan/murphy/where_am_i/saved_models/keras_cifar10_trained_model.h5\n",
      "16/16 [==============================] - 1s 59ms/step - loss: 1.3333 - acc: 0.5435 - val_loss: 1.3342 - val_acc: 0.5375\n",
      "Epoch 18/60\n",
      "13/16 [=======================>......] - ETA: 0s - loss: 1.2956 - acc: 0.5619\n",
      "Epoch 00018: val_loss improved from 1.33415 to 1.28731, saving model to /home/jovyan/murphy/where_am_i/saved_models/keras_cifar10_trained_model.h5\n",
      "16/16 [==============================] - 1s 63ms/step - loss: 1.3046 - acc: 0.5627 - val_loss: 1.2873 - val_acc: 0.5517\n",
      "Epoch 19/60\n",
      "14/16 [=========================>....] - ETA: 0s - loss: 1.2531 - acc: 0.5703\n",
      "Epoch 00019: val_loss did not improve\n",
      "16/16 [==============================] - 1s 55ms/step - loss: 1.2712 - acc: 0.5654 - val_loss: 1.3480 - val_acc: 0.5314\n",
      "Epoch 20/60\n",
      "15/16 [===========================>..] - ETA: 0s - loss: 1.2895 - acc: 0.5641\n",
      "Epoch 00020: val_loss did not improve\n",
      "16/16 [==============================] - 1s 50ms/step - loss: 1.2806 - acc: 0.5686 - val_loss: 1.3982 - val_acc: 0.5325\n",
      "Epoch 21/60\n",
      "15/16 [===========================>..] - ETA: 0s - loss: 1.2830 - acc: 0.5744\n",
      "Epoch 00021: val_loss did not improve\n",
      "16/16 [==============================] - 1s 52ms/step - loss: 1.2781 - acc: 0.5741 - val_loss: 1.2954 - val_acc: 0.5588\n",
      "Epoch 22/60\n",
      "13/16 [=======================>......] - ETA: 0s - loss: 1.2795 - acc: 0.5705\n",
      "Epoch 00022: val_loss improved from 1.28731 to 1.28452, saving model to /home/jovyan/murphy/where_am_i/saved_models/keras_cifar10_trained_model.h5\n",
      "16/16 [==============================] - 1s 63ms/step - loss: 1.2662 - acc: 0.5744 - val_loss: 1.2845 - val_acc: 0.5720\n",
      "Epoch 23/60\n",
      "13/16 [=======================>......] - ETA: 0s - loss: 1.2682 - acc: 0.5649\n",
      "Epoch 00023: val_loss did not improve\n",
      "16/16 [==============================] - 1s 58ms/step - loss: 1.2577 - acc: 0.5740 - val_loss: 1.3068 - val_acc: 0.5629\n",
      "Epoch 24/60\n",
      "13/16 [=======================>......] - ETA: 0s - loss: 1.3067 - acc: 0.5667\n",
      "Epoch 00024: val_loss improved from 1.28452 to 1.28004, saving model to /home/jovyan/murphy/where_am_i/saved_models/keras_cifar10_trained_model.h5\n",
      "16/16 [==============================] - 1s 61ms/step - loss: 1.2809 - acc: 0.5807 - val_loss: 1.2800 - val_acc: 0.5680\n",
      "Epoch 25/60\n",
      "14/16 [=========================>....] - ETA: 0s - loss: 1.1940 - acc: 0.5942\n",
      "Epoch 00025: val_loss improved from 1.28004 to 1.27654, saving model to /home/jovyan/murphy/where_am_i/saved_models/keras_cifar10_trained_model.h5\n",
      "16/16 [==============================] - 1s 59ms/step - loss: 1.1972 - acc: 0.5970 - val_loss: 1.2765 - val_acc: 0.5578\n",
      "Epoch 26/60\n",
      "14/16 [=========================>....] - ETA: 0s - loss: 1.2215 - acc: 0.5837\n",
      "Epoch 00026: val_loss improved from 1.27654 to 1.16429, saving model to /home/jovyan/murphy/where_am_i/saved_models/keras_cifar10_trained_model.h5\n",
      "16/16 [==============================] - 1s 62ms/step - loss: 1.2055 - acc: 0.5893 - val_loss: 1.1643 - val_acc: 0.6004\n",
      "Epoch 27/60\n",
      "13/16 [=======================>......] - ETA: 0s - loss: 1.1171 - acc: 0.6250\n",
      "Epoch 00027: val_loss did not improve\n",
      "16/16 [==============================] - 1s 56ms/step - loss: 1.1656 - acc: 0.6096 - val_loss: 1.2828 - val_acc: 0.5700\n",
      "Epoch 28/60\n",
      "13/16 [=======================>......] - ETA: 0s - loss: 1.1508 - acc: 0.6082\n",
      "Epoch 00028: val_loss did not improve\n",
      "16/16 [==============================] - 1s 59ms/step - loss: 1.1552 - acc: 0.6126 - val_loss: 1.1701 - val_acc: 0.5974\n",
      "Epoch 29/60\n",
      "13/16 [=======================>......] - ETA: 0s - loss: 1.0827 - acc: 0.6148\n",
      "Epoch 00029: val_loss did not improve\n",
      "16/16 [==============================] - 1s 54ms/step - loss: 1.1005 - acc: 0.6149 - val_loss: 1.1861 - val_acc: 0.5984\n",
      "Epoch 30/60\n",
      "14/16 [=========================>....] - ETA: 0s - loss: 1.1221 - acc: 0.6116\n",
      "Epoch 00030: val_loss did not improve\n",
      "16/16 [==============================] - 1s 54ms/step - loss: 1.1327 - acc: 0.6094 - val_loss: 1.1644 - val_acc: 0.6126\n",
      "Epoch 31/60\n",
      "13/16 [=======================>......] - ETA: 0s - loss: 1.1262 - acc: 0.6224\n",
      "Epoch 00031: val_loss did not improve\n",
      "16/16 [==============================] - 1s 61ms/step - loss: 1.1210 - acc: 0.6209 - val_loss: 1.1961 - val_acc: 0.5963\n",
      "Epoch 32/60\n",
      "15/16 [===========================>..] - ETA: 0s - loss: 1.1025 - acc: 0.6119\n",
      "Epoch 00032: val_loss improved from 1.16429 to 1.14319, saving model to /home/jovyan/murphy/where_am_i/saved_models/keras_cifar10_trained_model.h5\n",
      "16/16 [==============================] - 1s 67ms/step - loss: 1.1132 - acc: 0.6080 - val_loss: 1.1432 - val_acc: 0.6075\n",
      "Epoch 33/60\n",
      "14/16 [=========================>....] - ETA: 0s - loss: 1.0831 - acc: 0.6365\n",
      "Epoch 00033: val_loss did not improve\n",
      "16/16 [==============================] - 1s 57ms/step - loss: 1.0906 - acc: 0.6292 - val_loss: 1.2403 - val_acc: 0.5933\n",
      "Epoch 34/60\n",
      "13/16 [=======================>......] - ETA: 0s - loss: 1.0752 - acc: 0.6267\n",
      "Epoch 00034: val_loss did not improve\n",
      "16/16 [==============================] - 1s 59ms/step - loss: 1.0986 - acc: 0.6177 - val_loss: 1.1441 - val_acc: 0.6217\n",
      "Epoch 35/60\n",
      "14/16 [=========================>....] - ETA: 0s - loss: 1.0106 - acc: 0.6533\n",
      "Epoch 00035: val_loss did not improve\n",
      "16/16 [==============================] - 1s 51ms/step - loss: 1.0219 - acc: 0.6508 - val_loss: 1.1527 - val_acc: 0.6258\n",
      "Epoch 36/60\n",
      "15/16 [===========================>..] - ETA: 0s - loss: 1.0212 - acc: 0.6608\n",
      "Epoch 00036: val_loss did not improve\n",
      "16/16 [==============================] - 1s 48ms/step - loss: 1.0133 - acc: 0.6614 - val_loss: 1.1725 - val_acc: 0.6105\n",
      "Epoch 37/60\n",
      "13/16 [=======================>......] - ETA: 0s - loss: 1.0042 - acc: 0.6556\n",
      "Epoch 00037: val_loss improved from 1.14319 to 1.10916, saving model to /home/jovyan/murphy/where_am_i/saved_models/keras_cifar10_trained_model.h5\n",
      "16/16 [==============================] - 1s 66ms/step - loss: 1.0124 - acc: 0.6574 - val_loss: 1.1092 - val_acc: 0.6359\n",
      "Epoch 38/60\n",
      "13/16 [=======================>......] - ETA: 0s - loss: 0.9813 - acc: 0.6635\n",
      "Epoch 00038: val_loss did not improve\n",
      "16/16 [==============================] - 1s 57ms/step - loss: 0.9880 - acc: 0.6631 - val_loss: 1.1195 - val_acc: 0.6258\n",
      "Epoch 39/60\n",
      "15/16 [===========================>..] - ETA: 0s - loss: 1.0045 - acc: 0.6465\n",
      "Epoch 00039: val_loss improved from 1.10916 to 1.10201, saving model to /home/jovyan/murphy/where_am_i/saved_models/keras_cifar10_trained_model.h5\n",
      "16/16 [==============================] - 1s 59ms/step - loss: 1.0019 - acc: 0.6505 - val_loss: 1.1020 - val_acc: 0.6227\n",
      "Epoch 40/60\n",
      "13/16 [=======================>......] - ETA: 0s - loss: 0.9928 - acc: 0.6496\n",
      "Epoch 00040: val_loss did not improve\n",
      "16/16 [==============================] - 1s 54ms/step - loss: 0.9851 - acc: 0.6560 - val_loss: 1.1604 - val_acc: 0.6217\n",
      "Epoch 41/60\n",
      "15/16 [===========================>..] - ETA: 0s - loss: 0.9577 - acc: 0.6639\n",
      "Epoch 00041: val_loss did not improve\n",
      "16/16 [==============================] - 1s 50ms/step - loss: 0.9575 - acc: 0.6635 - val_loss: 1.1935 - val_acc: 0.6247\n",
      "Epoch 42/60\n",
      "14/16 [=========================>....] - ETA: 0s - loss: 1.0119 - acc: 0.6503\n",
      "Epoch 00042: val_loss did not improve\n",
      "16/16 [==============================] - 1s 53ms/step - loss: 1.0057 - acc: 0.6554 - val_loss: 1.1840 - val_acc: 0.6187\n",
      "Epoch 43/60\n",
      "14/16 [=========================>....] - ETA: 0s - loss: 1.0022 - acc: 0.6438\n",
      "Epoch 00043: val_loss did not improve\n",
      "16/16 [==============================] - 1s 52ms/step - loss: 1.0010 - acc: 0.6473 - val_loss: 1.1320 - val_acc: 0.6258\n",
      "Epoch 44/60\n",
      "13/16 [=======================>......] - ETA: 0s - loss: 0.9751 - acc: 0.6653\n",
      "Epoch 00044: val_loss improved from 1.10201 to 1.08859, saving model to /home/jovyan/murphy/where_am_i/saved_models/keras_cifar10_trained_model.h5\n",
      "16/16 [==============================] - 1s 61ms/step - loss: 0.9758 - acc: 0.6651 - val_loss: 1.0886 - val_acc: 0.6389\n",
      "Epoch 45/60\n",
      "14/16 [=========================>....] - ETA: 0s - loss: 0.9494 - acc: 0.6683\n",
      "Epoch 00045: val_loss did not improve\n",
      "16/16 [==============================] - 1s 51ms/step - loss: 0.9595 - acc: 0.6624 - val_loss: 1.1024 - val_acc: 0.6400\n",
      "Epoch 46/60\n",
      "13/16 [=======================>......] - ETA: 0s - loss: 0.9248 - acc: 0.6940\n",
      "Epoch 00046: val_loss did not improve\n",
      "16/16 [==============================] - 1s 53ms/step - loss: 0.9529 - acc: 0.6820 - val_loss: 1.1439 - val_acc: 0.6278\n",
      "Epoch 47/60\n",
      "13/16 [=======================>......] - ETA: 0s - loss: 0.9009 - acc: 0.6941\n",
      "Epoch 00047: val_loss improved from 1.08859 to 1.07198, saving model to /home/jovyan/murphy/where_am_i/saved_models/keras_cifar10_trained_model.h5\n",
      "16/16 [==============================] - 1s 68ms/step - loss: 0.9144 - acc: 0.6850 - val_loss: 1.0720 - val_acc: 0.6308\n",
      "Epoch 48/60\n",
      "14/16 [=========================>....] - ETA: 0s - loss: 0.8944 - acc: 0.6934\n",
      "Epoch 00048: val_loss did not improve\n",
      "16/16 [==============================] - 1s 56ms/step - loss: 0.8999 - acc: 0.6946 - val_loss: 1.1714 - val_acc: 0.6146\n",
      "Epoch 49/60\n",
      "15/16 [===========================>..] - ETA: 0s - loss: 0.8990 - acc: 0.6842\n",
      "Epoch 00049: val_loss did not improve\n",
      "16/16 [==============================] - 1s 52ms/step - loss: 0.9170 - acc: 0.6790 - val_loss: 1.1241 - val_acc: 0.6450\n",
      "Epoch 50/60\n",
      "14/16 [=========================>....] - ETA: 0s - loss: 0.8873 - acc: 0.7062\n",
      "Epoch 00050: val_loss did not improve\n",
      "16/16 [==============================] - 1s 55ms/step - loss: 0.8946 - acc: 0.6985 - val_loss: 1.1008 - val_acc: 0.6521\n",
      "Epoch 51/60\n",
      "15/16 [===========================>..] - ETA: 0s - loss: 0.9007 - acc: 0.6926\n",
      "Epoch 00051: val_loss did not improve\n",
      "16/16 [==============================] - 1s 52ms/step - loss: 0.8986 - acc: 0.6952 - val_loss: 1.1113 - val_acc: 0.6369\n",
      "Epoch 52/60\n",
      "15/16 [===========================>..] - ETA: 0s - loss: 0.9091 - acc: 0.6821\n",
      "Epoch 00052: val_loss did not improve\n",
      "16/16 [==============================] - 1s 55ms/step - loss: 0.9094 - acc: 0.6833 - val_loss: 1.1835 - val_acc: 0.6075\n",
      "Epoch 53/60\n",
      "13/16 [=======================>......] - ETA: 0s - loss: 0.8786 - acc: 0.6983\n",
      "Epoch 00053: val_loss did not improve\n",
      "16/16 [==============================] - 1s 52ms/step - loss: 0.8883 - acc: 0.6987 - val_loss: 1.1127 - val_acc: 0.6389\n",
      "Epoch 54/60\n",
      "13/16 [=======================>......] - ETA: 0s - loss: 0.8501 - acc: 0.7132\n",
      "Epoch 00054: val_loss did not improve\n",
      "16/16 [==============================] - 1s 58ms/step - loss: 0.8440 - acc: 0.7152 - val_loss: 1.1508 - val_acc: 0.6582\n",
      "Epoch 55/60\n",
      "14/16 [=========================>....] - ETA: 0s - loss: 0.8647 - acc: 0.7000\n",
      "Epoch 00055: val_loss did not improve\n",
      "16/16 [==============================] - 1s 55ms/step - loss: 0.8790 - acc: 0.6964 - val_loss: 1.1006 - val_acc: 0.6582\n",
      "Epoch 56/60\n",
      "15/16 [===========================>..] - ETA: 0s - loss: 0.8880 - acc: 0.6956\n",
      "Epoch 00056: val_loss did not improve\n",
      "16/16 [==============================] - 1s 53ms/step - loss: 0.8907 - acc: 0.6942 - val_loss: 1.0831 - val_acc: 0.6359\n",
      "Epoch 57/60\n",
      "13/16 [=======================>......] - ETA: 0s - loss: 0.7922 - acc: 0.7296\n",
      "Epoch 00057: val_loss did not improve\n",
      "16/16 [==============================] - 1s 53ms/step - loss: 0.8052 - acc: 0.7241 - val_loss: 1.1086 - val_acc: 0.6389\n",
      "Epoch 00057: early stopping\n",
      "Loading trained model\n",
      "986/986 [==============================] - 0s 182us/step\n",
      "Test loss: 1.07197964796\n",
      "Test accuracy: 0.630831643002\n"
     ]
    }
   ],
   "source": [
    "batch_size = 128\n",
    "epochs = 60\n",
    "\n",
    "print('Using real-time data augmentation.')\n",
    "# This will do preprocessing and realtime data augmentation:\n",
    "datagen = ImageDataGenerator(\n",
    "    rotation_range=30,  # randomly rotate images in the range (degrees, 0 to 180)\n",
    "    width_shift_range=0.1,  # randomly shift images horizontally (fraction of total width)\n",
    "    height_shift_range=0.1,  # randomly shift images vertically (fraction of total height)\n",
    "    horizontal_flip=True,  # randomly flip images\n",
    "    vertical_flip=False)  # randomly flip images\n",
    "\n",
    "# Use ModelCheckpoint to save model and weights\n",
    "save_dir = os.path.join(os.getcwd(), 'saved_models')\n",
    "model_name = 'keras_cifar10_trained_model.h5'\n",
    "print(save_dir)\n",
    "\n",
    "if not os.path.isdir(save_dir):\n",
    "    os.makedirs(save_dir)\n",
    "model_path = os.path.join(save_dir, model_name)\n",
    "checkpoint = ModelCheckpoint(model_path, monitor='val_loss', save_best_only=True, verbose=1)\n",
    "\n",
    "# earlystop\n",
    "earlystop = EarlyStopping(monitor='val_loss', patience=10, verbose=1)\n",
    "\n",
    "# Fit the model on the batches generated by datagen.flow().\n",
    "model_history = model.fit_generator(datagen.flow(x_train, y_train,\n",
    "                                 batch_size=batch_size),\n",
    "                    epochs=epochs,\n",
    "                    validation_data=(x_test, y_test),\n",
    "                    workers=4,\n",
    "                    callbacks=[earlystop, checkpoint])\n",
    "\n",
    "\n",
    "# loading our save model\n",
    "print(\"Loading trained model\")\n",
    "model = load_model(model_path)\n",
    "\n",
    "# Score trained model.\n",
    "scores = model.evaluate(x_test, y_test, verbose=1)\n",
    "print('Test loss:', scores[0])\n",
    "print('Test accuracy:', scores[1])"
   ]
  },
  {
   "cell_type": "code",
   "execution_count": 13,
   "metadata": {},
   "outputs": [
    {
     "data": {
      "image/png": "[encoded data removed]",
      "text/plain": [
       "<Figure size 432x288 with 1 Axes>"
      ]
     },
     "metadata": {},
     "output_type": "display_data"
    }
   ],
   "source": [
    "training_loss = model_history.history['loss']\n",
    "val_loss = model_history.history['val_loss']\n",
    "\n",
    "plt.plot(training_loss, label=\"training_loss\")\n",
    "plt.plot(val_loss, label=\"validation_loss\")\n",
    "plt.xlabel(\"Epochs\")\n",
    "plt.ylabel(\"Loss\")\n",
    "plt.title(\"Learning Curve\")\n",
    "plt.legend(loc='best')\n",
    "plt.show()"
   ]
  },
  {
   "cell_type": "code",
   "execution_count": 14,
   "metadata": {},
   "outputs": [
    {
     "name": "stdout",
     "output_type": "stream",
     "text": [
      "(1500, 2) 001d4c8d70ebf7f025fccf256324d3d5ad3560faee1cdf8c7115f5eb033bc3d2 /data/examples/may_the_4_be_with_u/where_am_i/testset/001d4c8d70ebf7f025fccf256324d3d5ad3560faee1cdf8c7115f5eb033bc3d2.jpg\n"
     ]
    }
   ],
   "source": [
    "import os\n",
    "import pandas as pd\n",
    "\n",
    "testList = []\n",
    "for dirname, dirnames, filenames in os.walk(path+'testset'):\n",
    "    # print path to all subdirectories first.\n",
    "    #for subdirname in dirnames:\n",
    "     #   print(os.path.join(dirname, subdirname))\n",
    "    \n",
    "    # print path to all filenames.\n",
    "    for filename in filenames:\n",
    "        folderName = dirname.replace(path+'testset/','')\n",
    "        #print(folderName, filename)\n",
    "        row = []\n",
    "        row.append(filename.replace('.jpg',''))\n",
    "        row.append(os.path.join(dirname, filename))\n",
    "        testList.append(row)\n",
    "        \n",
    "testDf = pd.DataFrame(testList, columns=['id','path'])        \n",
    "  \n",
    "print(testDf.shape, testDf.iloc[0,0], testDf.iloc[0,1])"
   ]
  },
  {
   "cell_type": "code",
   "execution_count": 15,
   "metadata": {},
   "outputs": [
    {
     "data": {
      "text/html": [
       "<div>\n",
       "<style scoped>\n",
       "    .dataframe tbody tr th:only-of-type {\n",
       "        vertical-align: middle;\n",
       "    }\n",
       "\n",
       "    .dataframe tbody tr th {\n",
       "        vertical-align: top;\n",
       "    }\n",
       "\n",
       "    .dataframe thead th {\n",
       "        text-align: right;\n",
       "    }\n",
       "</style>\n",
       "<table border=\"1\" class=\"dataframe\">\n",
       "  <thead>\n",
       "    <tr style=\"text-align: right;\">\n",
       "      <th></th>\n",
       "      <th>id</th>\n",
       "      <th>path</th>\n",
       "    </tr>\n",
       "  </thead>\n",
       "  <tbody>\n",
       "    <tr>\n",
       "      <th>0</th>\n",
       "      <td>001d4c8d70ebf7f025fccf256324d3d5ad3560faee1cdf...</td>\n",
       "      <td>/data/examples/may_the_4_be_with_u/where_am_i/...</td>\n",
       "    </tr>\n",
       "    <tr>\n",
       "      <th>1</th>\n",
       "      <td>00317b9d4bed4a2b1017e2bd31b9bf2f25bad05a65f570...</td>\n",
       "      <td>/data/examples/may_the_4_be_with_u/where_am_i/...</td>\n",
       "    </tr>\n",
       "    <tr>\n",
       "      <th>2</th>\n",
       "      <td>003d15d71c1514af5bb8734a96bae2c4d1ce299da8d369...</td>\n",
       "      <td>/data/examples/may_the_4_be_with_u/where_am_i/...</td>\n",
       "    </tr>\n",
       "    <tr>\n",
       "      <th>3</th>\n",
       "      <td>013c78d920be5390dbc66ca238ae3f49a2b0cf13e36013...</td>\n",
       "      <td>/data/examples/may_the_4_be_with_u/where_am_i/...</td>\n",
       "    </tr>\n",
       "    <tr>\n",
       "      <th>4</th>\n",
       "      <td>0175d5cda7ae5f6767187eef4bc29e0be62a5506acfdcf...</td>\n",
       "      <td>/data/examples/may_the_4_be_with_u/where_am_i/...</td>\n",
       "    </tr>\n",
       "  </tbody>\n",
       "</table>\n",
       "</div>"
      ],
      "text/plain": [
       "                                                  id  \\\n",
       "0  001d4c8d70ebf7f025fccf256324d3d5ad3560faee1cdf...   \n",
       "1  00317b9d4bed4a2b1017e2bd31b9bf2f25bad05a65f570...   \n",
       "2  003d15d71c1514af5bb8734a96bae2c4d1ce299da8d369...   \n",
       "3  013c78d920be5390dbc66ca238ae3f49a2b0cf13e36013...   \n",
       "4  0175d5cda7ae5f6767187eef4bc29e0be62a5506acfdcf...   \n",
       "\n",
       "                                                path  \n",
       "0  /data/examples/may_the_4_be_with_u/where_am_i/...  \n",
       "1  /data/examples/may_the_4_be_with_u/where_am_i/...  \n",
       "2  /data/examples/may_the_4_be_with_u/where_am_i/...  \n",
       "3  /data/examples/may_the_4_be_with_u/where_am_i/...  \n",
       "4  /data/examples/may_the_4_be_with_u/where_am_i/...  "
      ]
     },
     "execution_count": 15,
     "metadata": {},
     "output_type": "execute_result"
    }
   ],
   "source": [
    "testDf.head()"
   ]
  },
  {
   "cell_type": "code",
   "execution_count": 16,
   "metadata": {},
   "outputs": [
    {
     "name": "stdout",
     "output_type": "stream",
     "text": [
      "[148 148 148]\n",
      "[ 0.58039218  0.58039218  0.58039218]\n",
      "(1500,)\n"
     ]
    }
   ],
   "source": [
    "imgTest = np.array([cv2.resize(cv2.imread(t), resize) for t in testDf['path']])\n",
    "print(imgTest[0][0][0])\n",
    "imgTest = imgTest.astype('float32')\n",
    "imgTest /= 255.\n",
    "print(imgTest[0][0][0])\n",
    "y_pred=model.predict_classes(imgTest)\n",
    "\n",
    "print(y_pred.shape)"
   ]
  },
  {
   "cell_type": "code",
   "execution_count": 17,
   "metadata": {},
   "outputs": [
    {
     "name": "stdout",
     "output_type": "stream",
     "text": [
      "(1500, 2)\n"
     ]
    }
   ],
   "source": [
    "\n",
    "\n",
    "out = pd.DataFrame()\n",
    "out['id'] = testDf['id']\n",
    "out['class'] = y_pred\n",
    "print(out.shape)\n",
    "out.to_csv('submit.csv',index=False)"
   ]
  },
  {
   "cell_type": "code",
   "execution_count": 18,
   "metadata": {},
   "outputs": [
    {
     "name": "stdout",
     "output_type": "stream",
     "text": [
      "5 4\n"
     ]
    }
   ],
   "source": [
    "print(out['class'][0],out['class'][1])"
   ]
  },
  {
   "cell_type": "code",
   "execution_count": null,
   "metadata": {},
   "outputs": [],
   "source": []
  }
 ],
 "metadata": {
  "kernelspec": {
   "display_name": "Python 3",
   "language": "python",
   "name": "python3"
  },
  "language_info": {
   "codemirror_mode": {
    "name": "ipython",
    "version": 3
   },
   "file_extension": ".py",
   "mimetype": "text/x-python",
   "name": "python",
   "nbconvert_exporter": "python",
   "pygments_lexer": "ipython3",
   "version": "3.6.4"
  },
  "varInspector": {
   "cols": {
    "lenName": 16,
    "lenType": 16,
    "lenVar": 40
   },
   "kernels_config": {
    "python": {
     "delete_cmd_postfix": "",
     "delete_cmd_prefix": "del ",
     "library": "var_list.py",
     "varRefreshCmd": "print(var_dic_list())"
    },
    "r": {
     "delete_cmd_postfix": ") ",
     "delete_cmd_prefix": "rm(",
     "library": "var_list.r",
     "varRefreshCmd": "cat(var_dic_list()) "
    }
   },
   "types_to_exclude": [
    "module",
    "function",
    "builtin_function_or_method",
    "instance",
    "_Feature"
   ],
   "window_display": false
  }
 },
 "nbformat": 4,
 "nbformat_minor": 2
}
