{
 "cells": [
  {
   "cell_type": "code",
   "execution_count": 1,
   "metadata": {},
   "outputs": [
    {
     "name": "stdout",
     "output_type": "stream",
     "text": [
      "15 {'CALsuburb': 9, 'PARoffice': 7, 'bedroom': 12, 'coast': 10, 'forest': 4, 'highway': 14, 'industrial': 2, 'insidecity': 3, 'kitchen': 0, 'livingroom': 5, 'mountain': 8, 'opencountry': 6, 'store': 11, 'street': 1, 'tallbuilding': 13}\n"
     ]
    }
   ],
   "source": [
    "import numpy as np\n",
    "import pandas as pd\n",
    "\n",
    "path = '/data/examples/may_the_4_be_with_u/where_am_i/'\n",
    "\n",
    "# make a label map\n",
    "df = pd.read_csv(path + 'mapping.txt', header=None)\n",
    "yMap = dict(zip(df[0], df[1]))\n",
    "print(len(yMap), yMap)"
   ]
  },
  {
   "cell_type": "code",
   "execution_count": 2,
   "metadata": {},
   "outputs": [
    {
     "name": "stdout",
     "output_type": "stream",
     "text": [
      "/data/examples/may_the_4_be_with_u/where_am_i/train/CALsuburb/image_0001.jpg\n",
      "/data/examples/may_the_4_be_with_u/where_am_i/train/PARoffice/image_0001.jpg\n",
      "/data/examples/may_the_4_be_with_u/where_am_i/train/bedroom/image_0001.jpg\n",
      "/data/examples/may_the_4_be_with_u/where_am_i/train/coast/image_0001.jpg\n",
      "/data/examples/may_the_4_be_with_u/where_am_i/train/forest/image_0001.jpg\n",
      "/data/examples/may_the_4_be_with_u/where_am_i/train/highway/image_0001.jpg\n",
      "/data/examples/may_the_4_be_with_u/where_am_i/train/industrial/image_0001.jpg\n",
      "/data/examples/may_the_4_be_with_u/where_am_i/train/insidecity/image_0001.jpg\n",
      "/data/examples/may_the_4_be_with_u/where_am_i/train/kitchen/image_0001.jpg\n",
      "/data/examples/may_the_4_be_with_u/where_am_i/train/livingroom/image_0001.jpg\n",
      "/data/examples/may_the_4_be_with_u/where_am_i/train/mountain/image_0001.jpg\n",
      "/data/examples/may_the_4_be_with_u/where_am_i/train/opencountry/image_0001.jpg\n",
      "/data/examples/may_the_4_be_with_u/where_am_i/train/store/image_0001.jpg\n",
      "/data/examples/may_the_4_be_with_u/where_am_i/train/street/image_0001.jpg\n",
      "/data/examples/may_the_4_be_with_u/where_am_i/train/tallbuilding/image_0001.jpg\n"
     ]
    }
   ],
   "source": [
    "import os\n",
    "\n",
    "# show file structure\n",
    "for dirname, dirnames, filenames in os.walk(path+'train'):    \n",
    "    for filename in filenames:\n",
    "        print(os.path.join(dirname, filename))\n",
    "        break"
   ]
  },
  {
   "cell_type": "code",
   "execution_count": 3,
   "metadata": {},
   "outputs": [
    {
     "name": "stdout",
     "output_type": "stream",
     "text": [
      "(2985, 4)\n"
     ]
    }
   ],
   "source": [
    "import os\n",
    "import pandas as pd\n",
    "\n",
    "#make a image table\n",
    "trainList = []\n",
    "for dirname, dirnames, filenames in os.walk(path+'train'):    \n",
    "    for filename in filenames:\n",
    "        folderName = os.path.split(dirname)[-1]\n",
    "        #print(os.path.join(dirname, filename), folderName)        \n",
    "        row = []\n",
    "        row.append(yMap[folderName])\n",
    "        row.append(folderName)\n",
    "        row.append(filename)\n",
    "        row.append(os.path.join(dirname, filename))\n",
    "        trainList.append(row)        \n",
    "        \n",
    "trainDf = pd.DataFrame(trainList, columns=['label','folder','file','path'])          \n",
    "print(trainDf.shape)"
   ]
  },
  {
   "cell_type": "code",
   "execution_count": 4,
   "metadata": {},
   "outputs": [
    {
     "data": {
      "text/html": [
       "<div>\n",
       "<style scoped>\n",
       "    .dataframe tbody tr th:only-of-type {\n",
       "        vertical-align: middle;\n",
       "    }\n",
       "\n",
       "    .dataframe tbody tr th {\n",
       "        vertical-align: top;\n",
       "    }\n",
       "\n",
       "    .dataframe thead th {\n",
       "        text-align: right;\n",
       "    }\n",
       "</style>\n",
       "<table border=\"1\" class=\"dataframe\">\n",
       "  <thead>\n",
       "    <tr style=\"text-align: right;\">\n",
       "      <th></th>\n",
       "      <th>label</th>\n",
       "      <th>folder</th>\n",
       "      <th>file</th>\n",
       "      <th>path</th>\n",
       "    </tr>\n",
       "  </thead>\n",
       "  <tbody>\n",
       "    <tr>\n",
       "      <th>0</th>\n",
       "      <td>9</td>\n",
       "      <td>CALsuburb</td>\n",
       "      <td>image_0001.jpg</td>\n",
       "      <td>/data/examples/may_the_4_be_with_u/where_am_i/...</td>\n",
       "    </tr>\n",
       "    <tr>\n",
       "      <th>1</th>\n",
       "      <td>9</td>\n",
       "      <td>CALsuburb</td>\n",
       "      <td>image_0002.jpg</td>\n",
       "      <td>/data/examples/may_the_4_be_with_u/where_am_i/...</td>\n",
       "    </tr>\n",
       "    <tr>\n",
       "      <th>2</th>\n",
       "      <td>9</td>\n",
       "      <td>CALsuburb</td>\n",
       "      <td>image_0003.jpg</td>\n",
       "      <td>/data/examples/may_the_4_be_with_u/where_am_i/...</td>\n",
       "    </tr>\n",
       "    <tr>\n",
       "      <th>3</th>\n",
       "      <td>9</td>\n",
       "      <td>CALsuburb</td>\n",
       "      <td>image_0004.jpg</td>\n",
       "      <td>/data/examples/may_the_4_be_with_u/where_am_i/...</td>\n",
       "    </tr>\n",
       "    <tr>\n",
       "      <th>4</th>\n",
       "      <td>9</td>\n",
       "      <td>CALsuburb</td>\n",
       "      <td>image_0005.jpg</td>\n",
       "      <td>/data/examples/may_the_4_be_with_u/where_am_i/...</td>\n",
       "    </tr>\n",
       "  </tbody>\n",
       "</table>\n",
       "</div>"
      ],
      "text/plain": [
       "   label     folder            file  \\\n",
       "0      9  CALsuburb  image_0001.jpg   \n",
       "1      9  CALsuburb  image_0002.jpg   \n",
       "2      9  CALsuburb  image_0003.jpg   \n",
       "3      9  CALsuburb  image_0004.jpg   \n",
       "4      9  CALsuburb  image_0005.jpg   \n",
       "\n",
       "                                                path  \n",
       "0  /data/examples/may_the_4_be_with_u/where_am_i/...  \n",
       "1  /data/examples/may_the_4_be_with_u/where_am_i/...  \n",
       "2  /data/examples/may_the_4_be_with_u/where_am_i/...  \n",
       "3  /data/examples/may_the_4_be_with_u/where_am_i/...  \n",
       "4  /data/examples/may_the_4_be_with_u/where_am_i/...  "
      ]
     },
     "execution_count": 4,
     "metadata": {},
     "output_type": "execute_result"
    }
   ],
   "source": [
    "trainDf.head()"
   ]
  },
  {
   "cell_type": "code",
   "execution_count": 5,
   "metadata": {},
   "outputs": [
    {
     "name": "stdout",
     "output_type": "stream",
     "text": [
      "img.shape (220, 330, 3)\n",
      "color: [48 48 48]\n"
     ]
    },
    {
     "data": {
      "image/png": "[encoded data removed]",
      "text/plain": [
       "<Figure size 432x288 with 1 Axes>"
      ]
     },
     "metadata": {},
     "output_type": "display_data"
    }
   ],
   "source": [
    "import cv2\n",
    "%matplotlib inline\n",
    "import matplotlib.pyplot as plt\n",
    "\n",
    "# examine a image\n",
    "img = cv2.imread(trainDf['path'][0]) \n",
    "plt.imshow(img) #, cmap='gray'\n",
    "print('img.shape',img.shape)\n",
    "print('color:',img[0][0])\n"
   ]
  },
  {
   "cell_type": "code",
   "execution_count": 6,
   "metadata": {},
   "outputs": [
    {
     "name": "stdout",
     "output_type": "stream",
     "text": [
      "[48 48 48]\n",
      "[ 0.1882353  0.1882353  0.1882353]\n"
     ]
    }
   ],
   "source": [
    "import cv2\n",
    "import numpy as np\n",
    "resize = (224, 224)\n",
    "\n",
    "#圖片變數值資料\n",
    "X = np.array([cv2.resize(cv2.imread(file), resize) for file in trainDf['path']])\n",
    "\n",
    "#normalize X\n",
    "print(X[0][0][0])\n",
    "X = X.astype('float32')\n",
    "X /= 255.\n",
    "print(X[0][0][0])\n",
    "\n"
   ]
  },
  {
   "cell_type": "code",
   "execution_count": 7,
   "metadata": {},
   "outputs": [
    {
     "name": "stderr",
     "output_type": "stream",
     "text": [
      "Using TensorFlow backend.\n"
     ]
    },
    {
     "name": "stdout",
     "output_type": "stream",
     "text": [
      "(2985, 15)\n"
     ]
    }
   ],
   "source": [
    "#one hot encoding Y\n",
    "import keras\n",
    "\n",
    "num_classes = 15\n",
    "label = keras.utils.to_categorical(trainDf['label'], num_classes)\n",
    "\n",
    "print(label.shape)"
   ]
  },
  {
   "cell_type": "code",
   "execution_count": 8,
   "metadata": {},
   "outputs": [
    {
     "name": "stdout",
     "output_type": "stream",
     "text": [
      "(1999, 224, 224, 3) (1999, 15) (986, 224, 224, 3) (986, 15)\n",
      "[ 0.49019608  0.49019608  0.49019608]\n",
      "[[ 0.  0.  0.  0.  0.  0.  1.  0.  0.  0.  0.  0.  0.  0.  0.]\n",
      " [ 0.  0.  0.  0.  0.  0.  0.  0.  1.  0.  0.  0.  0.  0.  0.]\n",
      " [ 0.  0.  0.  0.  0.  0.  0.  0.  1.  0.  0.  0.  0.  0.  0.]\n",
      " [ 0.  0.  0.  0.  1.  0.  0.  0.  0.  0.  0.  0.  0.  0.  0.]\n",
      " [ 0.  0.  0.  0.  0.  0.  0.  0.  0.  0.  0.  0.  1.  0.  0.]]\n"
     ]
    }
   ],
   "source": [
    "from sklearn.model_selection import train_test_split\n",
    "\n",
    "x_train, x_test, y_train, y_test = train_test_split(\n",
    "    X, label, test_size=0.33) #default就會shuffle, 不用random_state=42\n",
    "\n",
    "print(x_train.shape, y_train.shape,x_test.shape, y_test.shape)\n",
    "print(x_train[0][0][0])\n",
    "print(y_train[0:5])"
   ]
  },
  {
   "cell_type": "markdown",
   "metadata": {},
   "source": [
    "選擇Model開始"
   ]
  },
  {
   "cell_type": "code",
   "execution_count": 9,
   "metadata": {},
   "outputs": [
    {
     "name": "stdout",
     "output_type": "stream",
     "text": [
      "_________________________________________________________________\n",
      "Layer (type)                 Output Shape              Param #   \n",
      "=================================================================\n",
      "conv2d_1 (Conv2D)            (None, 224, 224, 32)      896       \n",
      "_________________________________________________________________\n",
      "activation_1 (Activation)    (None, 224, 224, 32)      0         \n",
      "_________________________________________________________________\n",
      "conv2d_2 (Conv2D)            (None, 222, 222, 32)      9248      \n",
      "_________________________________________________________________\n",
      "activation_2 (Activation)    (None, 222, 222, 32)      0         \n",
      "_________________________________________________________________\n",
      "max_pooling2d_1 (MaxPooling2 (None, 111, 111, 32)      0         \n",
      "_________________________________________________________________\n",
      "dropout_1 (Dropout)          (None, 111, 111, 32)      0         \n",
      "_________________________________________________________________\n",
      "conv2d_3 (Conv2D)            (None, 111, 111, 64)      18496     \n",
      "_________________________________________________________________\n",
      "activation_3 (Activation)    (None, 111, 111, 64)      0         \n",
      "_________________________________________________________________\n",
      "conv2d_4 (Conv2D)            (None, 109, 109, 64)      36928     \n",
      "_________________________________________________________________\n",
      "activation_4 (Activation)    (None, 109, 109, 64)      0         \n",
      "_________________________________________________________________\n",
      "max_pooling2d_2 (MaxPooling2 (None, 54, 54, 64)        0         \n",
      "_________________________________________________________________\n",
      "dropout_2 (Dropout)          (None, 54, 54, 64)        0         \n",
      "_________________________________________________________________\n",
      "flatten_1 (Flatten)          (None, 186624)            0         \n",
      "_________________________________________________________________\n",
      "dense_1 (Dense)              (None, 512)               95552000  \n",
      "_________________________________________________________________\n",
      "activation_5 (Activation)    (None, 512)               0         \n",
      "_________________________________________________________________\n",
      "dropout_3 (Dropout)          (None, 512)               0         \n",
      "_________________________________________________________________\n",
      "dense_2 (Dense)              (None, 15)                7695      \n",
      "_________________________________________________________________\n",
      "activation_6 (Activation)    (None, 15)                0         \n",
      "=================================================================\n",
      "Total params: 95,625,263\n",
      "Trainable params: 95,625,263\n",
      "Non-trainable params: 0\n",
      "_________________________________________________________________\n",
      "None\n"
     ]
    }
   ],
   "source": [
    "import keras\n",
    "from keras.datasets import cifar10\n",
    "from keras.preprocessing.image import ImageDataGenerator\n",
    "from keras.models import Sequential, load_model\n",
    "from keras.layers import Dense, Dropout, Activation, Flatten, BatchNormalization\n",
    "from keras.layers import Conv2D, MaxPooling2D\n",
    "from keras.callbacks import EarlyStopping, ModelCheckpoint\n",
    "\n",
    "import matplotlib.pyplot as plt\n",
    "import os\n",
    "\n",
    "# build our CNN model\n",
    "model = Sequential()\n",
    "model.add(Conv2D(32, (3, 3), padding='same',\n",
    "                 input_shape=x_train.shape[1:]))\n",
    "model.add(Activation('relu'))\n",
    "model.add(Conv2D(32, (3, 3)))\n",
    "model.add(Activation('relu'))\n",
    "model.add(MaxPooling2D(pool_size=(2, 2)))\n",
    "model.add(Dropout(0.25))\n",
    "\n",
    "model.add(Conv2D(64, (3, 3), padding='same'))\n",
    "model.add(Activation('relu'))\n",
    "model.add(Conv2D(64, (3, 3)))\n",
    "model.add(Activation('relu'))\n",
    "model.add(MaxPooling2D(pool_size=(2, 2)))\n",
    "model.add(Dropout(0.25))\n",
    "\n",
    "model.add(Flatten())\n",
    "model.add(Dense(512))\n",
    "model.add(Activation('relu'))\n",
    "model.add(Dropout(0.5))\n",
    "model.add(Dense(num_classes))\n",
    "model.add(Activation('softmax'))\n",
    "\n",
    "print(model.summary())\n"
   ]
  },
  {
   "cell_type": "code",
   "execution_count": 10,
   "metadata": {},
   "outputs": [],
   "source": [
    "\n",
    "# initiate Adam optimizer\n",
    "opt = keras.optimizers.Adam()\n",
    "#opt = keras.optimizers.rmsprop(lr=0.0001, decay=1e-6)\n",
    "\n",
    "# Let's train the model using Adam\n",
    "model.compile(loss='categorical_crossentropy',\n",
    "              optimizer=opt,\n",
    "              metrics=['accuracy'])\n",
    "\n"
   ]
  },
  {
   "cell_type": "code",
   "execution_count": 11,
   "metadata": {},
   "outputs": [
    {
     "name": "stdout",
     "output_type": "stream",
     "text": [
      "/home/jovyan/murphy/where_am_i/saved_models\n",
      "modelBest <keras.models.Sequential object at 0x7fb86a2ce9b0>\n",
      "Caught this error: NameError(\"name 'scores' is not defined\",)\n"
     ]
    }
   ],
   "source": [
    "# Use ModelCheckpoint to save model and weights\n",
    "save_dir = os.path.join(os.getcwd(), 'saved_models')\n",
    "model_name = 'keras_trained_model.h5'\n",
    "print(save_dir)\n",
    "\n",
    "if not os.path.isdir(save_dir):\n",
    "    os.makedirs(save_dir)\n",
    "model_path = os.path.join(save_dir, model_name)\n",
    "\n",
    "try:    \n",
    "    modelBest = load_model(model_path)\n",
    "    if modelBest is not None:\n",
    "        print('modelBest',modelBest)\n",
    "        #scores = modelBest.evaluate(x_test, y_test, verbose=1)\n",
    "        print('modelBest loss:', scores[0])\n",
    "        print('modelBest accuracy:', scores[1])   \n",
    "except Exception as error:\n",
    "    print('Caught this error: ' + repr(error))\n",
    "    \n",
    "    "
   ]
  },
  {
   "cell_type": "code",
   "execution_count": 12,
   "metadata": {},
   "outputs": [
    {
     "name": "stdout",
     "output_type": "stream",
     "text": [
      "(1999, 224, 224, 3) (1999, 15) (986, 224, 224, 3) (986, 15)\n",
      "Using real-time data augmentation.\n",
      "Epoch 1/50\n",
      "62/63 [============================>.] - ETA: 0s - loss: 2.7810 - acc: 0.1226\n",
      "Epoch 00001: val_loss improved from inf to 2.45496, saving model to /home/jovyan/murphy/where_am_i/saved_models/keras_trained_model.h5\n",
      "63/63 [==============================] - 29s 455ms/step - loss: 2.7763 - acc: 0.1231 - val_loss: 2.4550 - val_acc: 0.1531\n",
      "Epoch 2/50\n",
      "62/63 [============================>.] - ETA: 0s - loss: 2.4082 - acc: 0.2070\n",
      "Epoch 00002: val_loss improved from 2.45496 to 2.27075, saving model to /home/jovyan/murphy/where_am_i/saved_models/keras_trained_model.h5\n",
      "63/63 [==============================] - 37s 590ms/step - loss: 2.4051 - acc: 0.2072 - val_loss: 2.2708 - val_acc: 0.2606\n",
      "Epoch 3/50\n",
      "62/63 [============================>.] - ETA: 0s - loss: 2.2548 - acc: 0.2644\n",
      "Epoch 00003: val_loss improved from 2.27075 to 2.07209, saving model to /home/jovyan/murphy/where_am_i/saved_models/keras_trained_model.h5\n",
      "63/63 [==============================] - 22s 346ms/step - loss: 2.2580 - acc: 0.2642 - val_loss: 2.0721 - val_acc: 0.3083\n",
      "Epoch 4/50\n",
      "62/63 [============================>.] - ETA: 0s - loss: 2.0904 - acc: 0.3270\n",
      "Epoch 00004: val_loss improved from 2.07209 to 1.76168, saving model to /home/jovyan/murphy/where_am_i/saved_models/keras_trained_model.h5\n",
      "63/63 [==============================] - 28s 448ms/step - loss: 2.0884 - acc: 0.3278 - val_loss: 1.7617 - val_acc: 0.3976\n",
      "Epoch 5/50\n",
      "62/63 [============================>.] - ETA: 0s - loss: 1.8334 - acc: 0.3982\n",
      "Epoch 00005: val_loss improved from 1.76168 to 1.73627, saving model to /home/jovyan/murphy/where_am_i/saved_models/keras_trained_model.h5\n",
      "63/63 [==============================] - 30s 481ms/step - loss: 1.8314 - acc: 0.3988 - val_loss: 1.7363 - val_acc: 0.4239\n",
      "Epoch 6/50\n",
      "62/63 [============================>.] - ETA: 0s - loss: 1.7179 - acc: 0.4166\n",
      "Epoch 00006: val_loss improved from 1.73627 to 1.47257, saving model to /home/jovyan/murphy/where_am_i/saved_models/keras_trained_model.h5\n",
      "63/63 [==============================] - 38s 598ms/step - loss: 1.7143 - acc: 0.4174 - val_loss: 1.4726 - val_acc: 0.4848\n",
      "Epoch 7/50\n",
      "62/63 [============================>.] - ETA: 0s - loss: 1.5815 - acc: 0.4511\n",
      "Epoch 00007: val_loss did not improve\n",
      "63/63 [==============================] - 10s 154ms/step - loss: 1.5886 - acc: 0.4504 - val_loss: 1.6131 - val_acc: 0.4635\n",
      "Epoch 8/50\n",
      "62/63 [============================>.] - ETA: 0s - loss: 1.5201 - acc: 0.4782\n",
      "Epoch 00008: val_loss improved from 1.47257 to 1.33795, saving model to /home/jovyan/murphy/where_am_i/saved_models/keras_trained_model.h5\n",
      "63/63 [==============================] - 23s 365ms/step - loss: 1.5202 - acc: 0.4800 - val_loss: 1.3380 - val_acc: 0.5355\n",
      "Epoch 9/50\n",
      "62/63 [============================>.] - ETA: 0s - loss: 1.4409 - acc: 0.4763\n",
      "Epoch 00009: val_loss did not improve\n",
      "63/63 [==============================] - 10s 155ms/step - loss: 1.4442 - acc: 0.4747 - val_loss: 1.4479 - val_acc: 0.4990\n",
      "Epoch 10/50\n",
      "62/63 [============================>.] - ETA: 0s - loss: 1.4430 - acc: 0.4868\n",
      "Epoch 00010: val_loss improved from 1.33795 to 1.29963, saving model to /home/jovyan/murphy/where_am_i/saved_models/keras_trained_model.h5\n",
      "63/63 [==============================] - 27s 430ms/step - loss: 1.4383 - acc: 0.4890 - val_loss: 1.2996 - val_acc: 0.5416\n",
      "Epoch 11/50\n",
      "62/63 [============================>.] - ETA: 0s - loss: 1.3716 - acc: 0.5154\n",
      "Epoch 00011: val_loss improved from 1.29963 to 1.29407, saving model to /home/jovyan/murphy/where_am_i/saved_models/keras_trained_model.h5\n",
      "63/63 [==============================] - 23s 364ms/step - loss: 1.3732 - acc: 0.5132 - val_loss: 1.2941 - val_acc: 0.5406\n",
      "Epoch 12/50\n",
      "62/63 [============================>.] - ETA: 0s - loss: 1.3402 - acc: 0.5172\n",
      "Epoch 00012: val_loss did not improve\n",
      "63/63 [==============================] - 10s 153ms/step - loss: 1.3414 - acc: 0.5174 - val_loss: 1.3664 - val_acc: 0.5172\n",
      "Epoch 13/50\n",
      "62/63 [============================>.] - ETA: 0s - loss: 1.3999 - acc: 0.5188\n",
      "Epoch 00013: val_loss improved from 1.29407 to 1.25752, saving model to /home/jovyan/murphy/where_am_i/saved_models/keras_trained_model.h5\n",
      "63/63 [==============================] - 35s 549ms/step - loss: 1.3989 - acc: 0.5199 - val_loss: 1.2575 - val_acc: 0.5538\n",
      "Epoch 14/50\n",
      "62/63 [============================>.] - ETA: 0s - loss: 1.3035 - acc: 0.5368\n",
      "Epoch 00014: val_loss improved from 1.25752 to 1.19243, saving model to /home/jovyan/murphy/where_am_i/saved_models/keras_trained_model.h5\n",
      "63/63 [==============================] - 31s 486ms/step - loss: 1.3048 - acc: 0.5372 - val_loss: 1.1924 - val_acc: 0.5801\n",
      "Epoch 15/50\n",
      "62/63 [============================>.] - ETA: 0s - loss: 1.2135 - acc: 0.5575\n",
      "Epoch 00015: val_loss improved from 1.19243 to 1.12452, saving model to /home/jovyan/murphy/where_am_i/saved_models/keras_trained_model.h5\n",
      "63/63 [==============================] - 41s 648ms/step - loss: 1.2076 - acc: 0.5586 - val_loss: 1.1245 - val_acc: 0.6034\n",
      "Epoch 16/50\n",
      "62/63 [============================>.] - ETA: 0s - loss: 1.1946 - acc: 0.5751\n",
      "Epoch 00016: val_loss did not improve\n",
      "63/63 [==============================] - 10s 154ms/step - loss: 1.1931 - acc: 0.5764 - val_loss: 1.1285 - val_acc: 0.6227\n",
      "Epoch 17/50\n",
      "62/63 [============================>.] - ETA: 0s - loss: 1.1522 - acc: 0.5869\n",
      "Epoch 00017: val_loss improved from 1.12452 to 1.08854, saving model to /home/jovyan/murphy/where_am_i/saved_models/keras_trained_model.h5\n",
      "63/63 [==============================] - 39s 615ms/step - loss: 1.1544 - acc: 0.5855 - val_loss: 1.0885 - val_acc: 0.6176\n",
      "Epoch 18/50\n",
      "62/63 [============================>.] - ETA: 0s - loss: 1.0889 - acc: 0.6167\n",
      "Epoch 00018: val_loss improved from 1.08854 to 1.06324, saving model to /home/jovyan/murphy/where_am_i/saved_models/keras_trained_model.h5\n",
      "63/63 [==============================] - 30s 477ms/step - loss: 1.0864 - acc: 0.6178 - val_loss: 1.0632 - val_acc: 0.6258\n",
      "Epoch 19/50\n",
      "62/63 [============================>.] - ETA: 0s - loss: 1.0315 - acc: 0.6421\n",
      "Epoch 00019: val_loss did not improve\n",
      "63/63 [==============================] - 10s 152ms/step - loss: 1.0377 - acc: 0.6404 - val_loss: 1.1193 - val_acc: 0.6105\n",
      "Epoch 20/50\n",
      "62/63 [============================>.] - ETA: 0s - loss: 1.0757 - acc: 0.6312\n",
      "Epoch 00020: val_loss improved from 1.06324 to 1.02460, saving model to /home/jovyan/murphy/where_am_i/saved_models/keras_trained_model.h5\n",
      "63/63 [==============================] - 25s 396ms/step - loss: 1.0804 - acc: 0.6296 - val_loss: 1.0246 - val_acc: 0.6288\n",
      "Epoch 21/50\n",
      "62/63 [============================>.] - ETA: 0s - loss: 1.0488 - acc: 0.6386\n",
      "Epoch 00021: val_loss did not improve\n",
      "63/63 [==============================] - 10s 151ms/step - loss: 1.0481 - acc: 0.6394 - val_loss: 1.0590 - val_acc: 0.6511\n",
      "Epoch 22/50\n",
      "62/63 [============================>.] - ETA: 0s - loss: 1.0268 - acc: 0.6310\n",
      "Epoch 00022: val_loss did not improve\n",
      "63/63 [==============================] - 9s 150ms/step - loss: 1.0276 - acc: 0.6304 - val_loss: 1.1363 - val_acc: 0.6166\n",
      "Epoch 23/50\n",
      "62/63 [============================>.] - ETA: 0s - loss: 1.0545 - acc: 0.6351\n",
      "Epoch 00023: val_loss improved from 1.02460 to 1.02231, saving model to /home/jovyan/murphy/where_am_i/saved_models/keras_trained_model.h5\n",
      "63/63 [==============================] - 26s 418ms/step - loss: 1.0507 - acc: 0.6355 - val_loss: 1.0223 - val_acc: 0.6400\n",
      "Epoch 24/50\n",
      "62/63 [============================>.] - ETA: 0s - loss: 0.9587 - acc: 0.6586\n",
      "Epoch 00024: val_loss improved from 1.02231 to 0.90569, saving model to /home/jovyan/murphy/where_am_i/saved_models/keras_trained_model.h5\n",
      "63/63 [==============================] - 41s 649ms/step - loss: 0.9549 - acc: 0.6590 - val_loss: 0.9057 - val_acc: 0.6846\n",
      "Epoch 25/50\n",
      "62/63 [============================>.] - ETA: 0s - loss: 0.9226 - acc: 0.6800\n",
      "Epoch 00025: val_loss did not improve\n",
      "63/63 [==============================] - 10s 151ms/step - loss: 0.9254 - acc: 0.6796 - val_loss: 0.9442 - val_acc: 0.6856\n",
      "Epoch 26/50\n",
      "62/63 [============================>.] - ETA: 0s - loss: 0.9563 - acc: 0.6604\n",
      "Epoch 00026: val_loss did not improve\n",
      "63/63 [==============================] - 9s 150ms/step - loss: 0.9569 - acc: 0.6603 - val_loss: 0.9775 - val_acc: 0.6684\n",
      "Epoch 27/50\n",
      "62/63 [============================>.] - ETA: 0s - loss: 0.9803 - acc: 0.6674\n",
      "Epoch 00027: val_loss improved from 0.90569 to 0.87035, saving model to /home/jovyan/murphy/where_am_i/saved_models/keras_trained_model.h5\n",
      "63/63 [==============================] - 33s 524ms/step - loss: 0.9745 - acc: 0.6688 - val_loss: 0.8703 - val_acc: 0.7150\n",
      "Epoch 28/50\n",
      "62/63 [============================>.] - ETA: 0s - loss: 0.8542 - acc: 0.6860\n",
      "Epoch 00028: val_loss did not improve\n",
      "63/63 [==============================] - 10s 151ms/step - loss: 0.8523 - acc: 0.6861 - val_loss: 0.9002 - val_acc: 0.6785\n",
      "Epoch 29/50\n",
      "62/63 [============================>.] - ETA: 0s - loss: 0.8681 - acc: 0.6974\n",
      "Epoch 00029: val_loss did not improve\n",
      "63/63 [==============================] - 10s 151ms/step - loss: 0.8694 - acc: 0.6973 - val_loss: 0.9268 - val_acc: 0.6836\n",
      "Epoch 30/50\n",
      "62/63 [============================>.] - ETA: 0s - loss: 0.8511 - acc: 0.7029\n",
      "Epoch 00030: val_loss improved from 0.87035 to 0.85488, saving model to /home/jovyan/murphy/where_am_i/saved_models/keras_trained_model.h5\n",
      "63/63 [==============================] - 20s 315ms/step - loss: 0.8505 - acc: 0.7036 - val_loss: 0.8549 - val_acc: 0.7028\n",
      "Epoch 31/50\n",
      "62/63 [============================>.] - ETA: 0s - loss: 0.8412 - acc: 0.7130\n",
      "Epoch 00031: val_loss did not improve\n",
      "63/63 [==============================] - 10s 151ms/step - loss: 0.8472 - acc: 0.7111 - val_loss: 0.9144 - val_acc: 0.6907\n",
      "Epoch 32/50\n",
      "62/63 [============================>.] - ETA: 0s - loss: 0.8071 - acc: 0.7155\n",
      "Epoch 00032: val_loss did not improve\n",
      "63/63 [==============================] - 10s 152ms/step - loss: 0.8038 - acc: 0.7161 - val_loss: 0.9280 - val_acc: 0.6957\n",
      "Epoch 33/50\n",
      "62/63 [============================>.] - ETA: 0s - loss: 0.7819 - acc: 0.7194\n",
      "Epoch 00033: val_loss did not improve\n",
      "63/63 [==============================] - 10s 153ms/step - loss: 0.7814 - acc: 0.7189 - val_loss: 0.8829 - val_acc: 0.6917\n",
      "Epoch 34/50\n",
      "62/63 [============================>.] - ETA: 0s - loss: 0.8387 - acc: 0.7028\n",
      "Epoch 00034: val_loss did not improve\n",
      "63/63 [==============================] - 10s 152ms/step - loss: 0.8325 - acc: 0.7060 - val_loss: 0.9090 - val_acc: 0.6978\n",
      "Epoch 35/50\n",
      "62/63 [============================>.] - ETA: 0s - loss: 0.7499 - acc: 0.7382\n",
      "Epoch 00035: val_loss did not improve\n",
      "63/63 [==============================] - 9s 150ms/step - loss: 0.7482 - acc: 0.7389 - val_loss: 0.8644 - val_acc: 0.7221\n",
      "Epoch 36/50\n",
      "62/63 [============================>.] - ETA: 0s - loss: 0.7811 - acc: 0.7260\n",
      "Epoch 00036: val_loss improved from 0.85488 to 0.84745, saving model to /home/jovyan/murphy/where_am_i/saved_models/keras_trained_model.h5\n",
      "63/63 [==============================] - 21s 336ms/step - loss: 0.7795 - acc: 0.7264 - val_loss: 0.8474 - val_acc: 0.7211\n",
      "Epoch 37/50\n",
      "62/63 [============================>.] - ETA: 0s - loss: 0.7755 - acc: 0.7250\n",
      "Epoch 00037: val_loss improved from 0.84745 to 0.81082, saving model to /home/jovyan/murphy/where_am_i/saved_models/keras_trained_model.h5\n",
      "63/63 [==============================] - 29s 458ms/step - loss: 0.7762 - acc: 0.7244 - val_loss: 0.8108 - val_acc: 0.7241\n",
      "Epoch 38/50\n",
      "62/63 [============================>.] - ETA: 0s - loss: 0.7712 - acc: 0.7276\n",
      "Epoch 00038: val_loss did not improve\n",
      "63/63 [==============================] - 10s 152ms/step - loss: 0.7748 - acc: 0.7274 - val_loss: 0.8807 - val_acc: 0.7039\n",
      "Epoch 39/50\n",
      "62/63 [============================>.] - ETA: 0s - loss: 0.7493 - acc: 0.7310\n",
      "Epoch 00039: val_loss did not improve\n",
      "63/63 [==============================] - 10s 151ms/step - loss: 0.7480 - acc: 0.7298 - val_loss: 0.9136 - val_acc: 0.7079\n",
      "Epoch 40/50\n",
      "62/63 [============================>.] - ETA: 0s - loss: 0.7326 - acc: 0.7402\n",
      "Epoch 00040: val_loss did not improve\n",
      "63/63 [==============================] - 10s 151ms/step - loss: 0.7330 - acc: 0.7408 - val_loss: 0.9178 - val_acc: 0.7028\n",
      "Epoch 41/50\n",
      "62/63 [============================>.] - ETA: 0s - loss: 0.7201 - acc: 0.7328\n",
      "Epoch 00041: val_loss did not improve\n",
      "63/63 [==============================] - 9s 150ms/step - loss: 0.7177 - acc: 0.7345 - val_loss: 0.8602 - val_acc: 0.7079\n",
      "Epoch 42/50\n",
      "62/63 [============================>.] - ETA: 0s - loss: 0.7134 - acc: 0.7393\n",
      "Epoch 00042: val_loss did not improve\n",
      "63/63 [==============================] - 10s 151ms/step - loss: 0.7103 - acc: 0.7409 - val_loss: 0.8832 - val_acc: 0.7110\n",
      "Epoch 43/50\n",
      "62/63 [============================>.] - ETA: 0s - loss: 0.6900 - acc: 0.7498\n",
      "Epoch 00043: val_loss did not improve\n",
      "63/63 [==============================] - 10s 151ms/step - loss: 0.6896 - acc: 0.7498 - val_loss: 0.8835 - val_acc: 0.7191\n",
      "Epoch 44/50\n",
      "62/63 [============================>.] - ETA: 0s - loss: 0.7401 - acc: 0.7371\n",
      "Epoch 00044: val_loss did not improve\n",
      "63/63 [==============================] - 9s 148ms/step - loss: 0.7426 - acc: 0.7383 - val_loss: 0.8114 - val_acc: 0.7221\n",
      "Epoch 45/50\n",
      "62/63 [============================>.] - ETA: 0s - loss: 0.6850 - acc: 0.7523\n",
      "Epoch 00045: val_loss did not improve\n",
      "63/63 [==============================] - 9s 151ms/step - loss: 0.6850 - acc: 0.7518 - val_loss: 0.8348 - val_acc: 0.7292\n",
      "Epoch 46/50\n",
      "62/63 [============================>.] - ETA: 0s - loss: 0.7175 - acc: 0.7469\n",
      "Epoch 00046: val_loss did not improve\n",
      "63/63 [==============================] - 10s 151ms/step - loss: 0.7142 - acc: 0.7469 - val_loss: 0.8247 - val_acc: 0.7089\n",
      "Epoch 47/50\n",
      "62/63 [============================>.] - ETA: 0s - loss: 0.6629 - acc: 0.7687\n",
      "Epoch 00047: val_loss did not improve\n",
      "63/63 [==============================] - 9s 151ms/step - loss: 0.6599 - acc: 0.7694 - val_loss: 0.8110 - val_acc: 0.7241\n",
      "Epoch 00047: early stopping\n",
      "Loading trained model  /home/jovyan/murphy/where_am_i/saved_models/keras_trained_model.h5\n",
      "modelBest <keras.models.Sequential object at 0x7fb6fc1b3128>\n",
      "986/986 [==============================] - 1s 1ms/step\n",
      "modelBest loss: 0.810822631718\n",
      "modelBest accuracy: 0.724137930672\n",
      "986/986 [==============================] - 1s 1ms/step\n",
      "Test loss: 0.81099810755\n",
      "Test accuracy: 0.724137931518\n"
     ]
    }
   ],
   "source": [
    "batch_size = 32\n",
    "epochs = 50\n",
    "\n",
    "print(x_train.shape, y_train.shape,x_test.shape, y_test.shape)\n",
    "\n",
    "print('Using real-time data augmentation.')\n",
    "# This will do preprocessing and realtime data augmentation:\n",
    "datagen = ImageDataGenerator(\n",
    "    featurewise_center=False,  # set input mean to 0 over the dataset\n",
    "    samplewise_center=False,  # set each sample mean to 0\n",
    "    featurewise_std_normalization=False,  # divide inputs by std of the dataset\n",
    "    samplewise_std_normalization=False,  # divide each input by its std\n",
    "    zca_whitening=False,  # apply ZCA whitening\n",
    "    zca_epsilon=1e-06,  # epsilon for ZCA whitening\n",
    "    rotation_range=0,  # randomly rotate images in the range (degrees, 0 to 180)\n",
    "    # randomly shift images horizontally (fraction of total width)\n",
    "    width_shift_range=0.1,\n",
    "    # randomly shift images vertically (fraction of total height)\n",
    "    height_shift_range=0.1,\n",
    "    shear_range=0.,  # set range for random shear\n",
    "    zoom_range=0.,  # set range for random zoom\n",
    "    channel_shift_range=0.,  # set range for random channel shifts\n",
    "    # set mode for filling points outside the input boundaries\n",
    "    fill_mode='nearest',\n",
    "    cval=0.,  # value used for fill_mode = \"constant\"\n",
    "    horizontal_flip=True,  # randomly flip images\n",
    "    vertical_flip=False,  # randomly flip images\n",
    "    # set rescaling factor (applied before any other transformation)\n",
    "    rescale=None,\n",
    "    # set function that will be applied on each input\n",
    "    preprocessing_function=None,\n",
    "    # image data format, either \"channels_first\" or \"channels_last\"\n",
    "    data_format=None)\n",
    "\n",
    "# Compute quantities required for feature-wise normalization\n",
    "# (std, mean, and principal components if ZCA whitening is applied).\n",
    "datagen.fit(x_train)\n",
    "\n",
    "\n",
    "checkpoint = ModelCheckpoint(model_path, monitor='val_loss', save_best_only=True, verbose=1)\n",
    "\n",
    "# earlystop\n",
    "earlystop = EarlyStopping(monitor='val_loss', patience=10, verbose=1)\n",
    "\n",
    "# Fit the model on the batches generated by datagen.flow().\n",
    "\n",
    "isSaveModel = True\n",
    "modelBest = None\n",
    "if isSaveModel:\n",
    "    model_history = model.fit_generator(datagen.flow(x_train, y_train,\n",
    "                                 batch_size=batch_size),\n",
    "                    epochs=epochs,\n",
    "                    validation_data=(x_test, y_test),\n",
    "                    workers=4,\n",
    "                    callbacks=[earlystop, checkpoint])\n",
    "    \n",
    "    # loading our save model\n",
    "    print(\"Loading trained model \", model_path)\n",
    "    modelBest = load_model(model_path)\n",
    "\n",
    "else:\n",
    "    model_history = model.fit_generator(datagen.flow(x_train, y_train,\n",
    "                         batch_size=batch_size),\n",
    "            epochs=epochs,\n",
    "            validation_data=(x_test, y_test),\n",
    "            workers=4)\n",
    "\n",
    "\n",
    "if modelBest is not None:\n",
    "    print('modelBest',modelBest)\n",
    "    scores = modelBest.evaluate(x_test, y_test, verbose=1)\n",
    "    print('modelBest loss:', scores[0])\n",
    "    print('modelBest accuracy:', scores[1])\n",
    "\n",
    "# Score trained model.\n",
    "scores = model.evaluate(x_test, y_test, verbose=1)\n",
    "print('Test loss:', scores[0])\n",
    "print('Test accuracy:', scores[1])\n"
   ]
  },
  {
   "cell_type": "code",
   "execution_count": 13,
   "metadata": {},
   "outputs": [
    {
     "data": {
      "image/png": "[encoded data removed]",
      "text/plain": [
       "<Figure size 432x288 with 1 Axes>"
      ]
     },
     "metadata": {},
     "output_type": "display_data"
    }
   ],
   "source": [
    "training_loss = model_history.history['loss']\n",
    "val_loss = model_history.history['val_loss']\n",
    "\n",
    "plt.plot(training_loss, label=\"training_loss\")\n",
    "plt.plot(val_loss, label=\"validation_loss\")\n",
    "plt.xlabel(\"Epochs\")\n",
    "plt.ylabel(\"Loss\")\n",
    "plt.title(\"Learning Curve\")\n",
    "plt.legend(loc='best')\n",
    "plt.show()"
   ]
  },
  {
   "cell_type": "code",
   "execution_count": 14,
   "metadata": {},
   "outputs": [
    {
     "name": "stdout",
     "output_type": "stream",
     "text": [
      "(1500, 2) 001d4c8d70ebf7f025fccf256324d3d5ad3560faee1cdf8c7115f5eb033bc3d2 /data/examples/may_the_4_be_with_u/where_am_i/testset/001d4c8d70ebf7f025fccf256324d3d5ad3560faee1cdf8c7115f5eb033bc3d2.jpg\n"
     ]
    }
   ],
   "source": [
    "import os\n",
    "import pandas as pd\n",
    "\n",
    "testList = []\n",
    "for dirname, dirnames, filenames in os.walk(path+'testset'):    \n",
    "    for filename in filenames:\n",
    "        row = []\n",
    "        row.append(filename.replace('.jpg',''))\n",
    "        row.append(os.path.join(dirname, filename))\n",
    "        testList.append(row)\n",
    "        \n",
    "testDf = pd.DataFrame(testList, columns=['id','path'])        \n",
    "  \n",
    "print(testDf.shape, testDf.iloc[0,0], testDf.iloc[0,1])"
   ]
  },
  {
   "cell_type": "code",
   "execution_count": 15,
   "metadata": {},
   "outputs": [
    {
     "data": {
      "text/html": [
       "<div>\n",
       "<style scoped>\n",
       "    .dataframe tbody tr th:only-of-type {\n",
       "        vertical-align: middle;\n",
       "    }\n",
       "\n",
       "    .dataframe tbody tr th {\n",
       "        vertical-align: top;\n",
       "    }\n",
       "\n",
       "    .dataframe thead th {\n",
       "        text-align: right;\n",
       "    }\n",
       "</style>\n",
       "<table border=\"1\" class=\"dataframe\">\n",
       "  <thead>\n",
       "    <tr style=\"text-align: right;\">\n",
       "      <th></th>\n",
       "      <th>id</th>\n",
       "      <th>path</th>\n",
       "    </tr>\n",
       "  </thead>\n",
       "  <tbody>\n",
       "    <tr>\n",
       "      <th>0</th>\n",
       "      <td>001d4c8d70ebf7f025fccf256324d3d5ad3560faee1cdf...</td>\n",
       "      <td>/data/examples/may_the_4_be_with_u/where_am_i/...</td>\n",
       "    </tr>\n",
       "    <tr>\n",
       "      <th>1</th>\n",
       "      <td>00317b9d4bed4a2b1017e2bd31b9bf2f25bad05a65f570...</td>\n",
       "      <td>/data/examples/may_the_4_be_with_u/where_am_i/...</td>\n",
       "    </tr>\n",
       "    <tr>\n",
       "      <th>2</th>\n",
       "      <td>003d15d71c1514af5bb8734a96bae2c4d1ce299da8d369...</td>\n",
       "      <td>/data/examples/may_the_4_be_with_u/where_am_i/...</td>\n",
       "    </tr>\n",
       "    <tr>\n",
       "      <th>3</th>\n",
       "      <td>013c78d920be5390dbc66ca238ae3f49a2b0cf13e36013...</td>\n",
       "      <td>/data/examples/may_the_4_be_with_u/where_am_i/...</td>\n",
       "    </tr>\n",
       "    <tr>\n",
       "      <th>4</th>\n",
       "      <td>0175d5cda7ae5f6767187eef4bc29e0be62a5506acfdcf...</td>\n",
       "      <td>/data/examples/may_the_4_be_with_u/where_am_i/...</td>\n",
       "    </tr>\n",
       "  </tbody>\n",
       "</table>\n",
       "</div>"
      ],
      "text/plain": [
       "                                                  id  \\\n",
       "0  001d4c8d70ebf7f025fccf256324d3d5ad3560faee1cdf...   \n",
       "1  00317b9d4bed4a2b1017e2bd31b9bf2f25bad05a65f570...   \n",
       "2  003d15d71c1514af5bb8734a96bae2c4d1ce299da8d369...   \n",
       "3  013c78d920be5390dbc66ca238ae3f49a2b0cf13e36013...   \n",
       "4  0175d5cda7ae5f6767187eef4bc29e0be62a5506acfdcf...   \n",
       "\n",
       "                                                path  \n",
       "0  /data/examples/may_the_4_be_with_u/where_am_i/...  \n",
       "1  /data/examples/may_the_4_be_with_u/where_am_i/...  \n",
       "2  /data/examples/may_the_4_be_with_u/where_am_i/...  \n",
       "3  /data/examples/may_the_4_be_with_u/where_am_i/...  \n",
       "4  /data/examples/may_the_4_be_with_u/where_am_i/...  "
      ]
     },
     "execution_count": 15,
     "metadata": {},
     "output_type": "execute_result"
    }
   ],
   "source": [
    "testDf.head()"
   ]
  },
  {
   "cell_type": "code",
   "execution_count": 16,
   "metadata": {},
   "outputs": [
    {
     "name": "stdout",
     "output_type": "stream",
     "text": [
      "[253 253 253]\n",
      "[ 0.99215686  0.99215686  0.99215686]\n",
      "(1500,)\n"
     ]
    }
   ],
   "source": [
    "imgTest = np.array([cv2.resize(cv2.imread(t), resize) for t in testDf['path']])\n",
    "print(imgTest[0][0][0])\n",
    "imgTest = imgTest.astype('float32')\n",
    "imgTest /= 255.\n",
    "print(imgTest[0][0][0])\n",
    "y_pred=model.predict_classes(imgTest)\n",
    "\n",
    "print(y_pred.shape)"
   ]
  },
  {
   "cell_type": "code",
   "execution_count": 17,
   "metadata": {},
   "outputs": [
    {
     "name": "stdout",
     "output_type": "stream",
     "text": [
      "(1500, 2)\n"
     ]
    }
   ],
   "source": [
    "out = pd.DataFrame()\n",
    "out['id'] = testDf['id']\n",
    "out['class'] = y_pred\n",
    "print(out.shape)\n",
    "out.to_csv('submit.csv',index=False)"
   ]
  },
  {
   "cell_type": "code",
   "execution_count": null,
   "metadata": {},
   "outputs": [],
   "source": []
  }
 ],
 "metadata": {
  "kernelspec": {
   "display_name": "Python 3",
   "language": "python",
   "name": "python3"
  },
  "language_info": {
   "codemirror_mode": {
    "name": "ipython",
    "version": 3
   },
   "file_extension": ".py",
   "mimetype": "text/x-python",
   "name": "python",
   "nbconvert_exporter": "python",
   "pygments_lexer": "ipython3",
   "version": "3.6.4"
  },
  "varInspector": {
   "cols": {
    "lenName": 16,
    "lenType": 16,
    "lenVar": 40
   },
   "kernels_config": {
    "python": {
     "delete_cmd_postfix": "",
     "delete_cmd_prefix": "del ",
     "library": "var_list.py",
     "varRefreshCmd": "print(var_dic_list())"
    },
    "r": {
     "delete_cmd_postfix": ") ",
     "delete_cmd_prefix": "rm(",
     "library": "var_list.r",
     "varRefreshCmd": "cat(var_dic_list()) "
    }
   },
   "types_to_exclude": [
    "module",
    "function",
    "builtin_function_or_method",
    "instance",
    "_Feature"
   ],
   "window_display": false
  }
 },
 "nbformat": 4,
 "nbformat_minor": 2
}
